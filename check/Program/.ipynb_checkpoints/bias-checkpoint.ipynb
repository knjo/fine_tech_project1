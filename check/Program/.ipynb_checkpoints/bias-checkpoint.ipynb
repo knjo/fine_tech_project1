{
 "cells": [
  {
   "cell_type": "markdown",
   "metadata": {
    "id": "xdeSWf5V0qhf"
   },
   "source": [
    "### 讀檔"
   ]
  },
  {
   "cell_type": "code",
   "execution_count": 1,
   "metadata": {
    "id": "VLc3DsN20qhi"
   },
   "outputs": [],
   "source": [
    "import pandas as pd\n",
    "\n",
    "df = pd.read_csv('./data/TXF.csv')"
   ]
  },
  {
   "cell_type": "markdown",
   "metadata": {
    "id": "zWcHaa630qhj"
   },
   "source": [
    "### 乖離率"
   ]
  },
  {
   "cell_type": "code",
   "execution_count": 2,
   "metadata": {
    "id": "_Qs65b9k0qhk"
   },
   "outputs": [],
   "source": [
    "def bias(data,period):\n",
    "    ma = data['close'].rolling(period).mean().tolist()\n",
    "    bias = [None]*(period-1)\n",
    "\n",
    "    for i in range(period-1,len(data)):\n",
    "        price = data.iat[i,4]\n",
    "        bias.append((price-ma[i])/ma[i])\n",
    "\n",
    "    col_name = str(period)+'MA_bias'\n",
    "\n",
    "    data[col_name] = bias"
   ]
  },
  {
   "cell_type": "code",
   "execution_count": 3,
   "metadata": {
    "id": "IdomOwvF0qhl"
   },
   "outputs": [],
   "source": [
    "df_bias = df.copy()\n",
    "bias(df_bias,6)\n",
    "bias(df_bias,12)\n",
    "bias(df_bias,24)\n",
    "bias(df_bias,72)"
   ]
  },
  {
   "cell_type": "code",
   "execution_count": 4,
   "metadata": {
    "id": "nh8BtvP00qhl"
   },
   "outputs": [],
   "source": [
    "df_bias.to_csv(\"./result/TXF_bias.csv\")"
   ]
  },
  {
   "cell_type": "markdown",
   "metadata": {
    "id": "hNH9EzYF0qhl"
   },
   "source": [
    "### 乖離率買賣超 -1賣/1買  \n",
    "6 日乖離率 ：小於 - 3 % 是賣超、大於 3.5 % 是買超  \n",
    "12 日乖離率：小於 - 4.5 % 是賣超、大於 5 % 是買超  \n",
    "24 日乖離率：小於  - 7 % 是賣超、大於 8 % 是買超  \n",
    "72 日乖離率：小於 - 11 % 是賣超、大於 11 % 是買超"
   ]
  },
  {
   "cell_type": "code",
   "execution_count": 5,
   "metadata": {
    "id": "4O8LM06P0qhm"
   },
   "outputs": [],
   "source": [
    "def bias_overbought_oversold(data,period,bought,sold):\n",
    "    ma = data['close'].rolling(period).mean().tolist()\n",
    "    label = [None]*(period-1)\n",
    "\n",
    "    for i in range(period-1,len(data)):\n",
    "        price = data.iat[i,4]\n",
    "        bias = (price-ma[i])/ma[i]\n",
    "        if bias > bought:\n",
    "            label.append('1')\n",
    "        elif bias < sold:\n",
    "            label.append('-1')\n",
    "        else:\n",
    "            label.append('0')\n",
    "\n",
    "    col_name = str(period)+'bias_overbought/oversold'\n",
    "\n",
    "    data[col_name] = label"
   ]
  },
  {
   "cell_type": "code",
   "execution_count": 6,
   "metadata": {
    "id": "cSxKkmu40qhn"
   },
   "outputs": [],
   "source": [
    "df_over = df.copy()\n",
    "bias_overbought_oversold(df_over,6,0.035,-0.03)\n",
    "bias_overbought_oversold(df_over,12,0.05,-0.045)\n",
    "bias_overbought_oversold(df_over,24,0.08,-0.07)\n",
    "bias_overbought_oversold(df_over,72,0.11,-0.11)"
   ]
  },
  {
   "cell_type": "code",
   "execution_count": 7,
   "metadata": {
    "id": "BduaT_ht0qho"
   },
   "outputs": [],
   "source": [
    "df_over.to_csv(\"./result/TXF_bias_overbought_oversold.csv\")"
   ]
  }
 ],
 "metadata": {
  "colab": {
   "name": "bias.ipynb",
   "provenance": []
  },
  "interpreter": {
   "hash": "706dc17f8ea7213faf3a7d5518f7aaf53ee37b805903198fc7d18a7ff99dea5e"
  },
  "kernelspec": {
   "display_name": "Python 3 (ipykernel)",
   "language": "python",
   "name": "python3"
  },
  "language_info": {
   "codemirror_mode": {
    "name": "ipython",
    "version": 3
   },
   "file_extension": ".py",
   "mimetype": "text/x-python",
   "name": "python",
   "nbconvert_exporter": "python",
   "pygments_lexer": "ipython3",
   "version": "3.9.7"
  }
 },
 "nbformat": 4,
 "nbformat_minor": 1
}
