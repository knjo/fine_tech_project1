{
 "cells": [
  {
   "cell_type": "code",
   "execution_count": 1,
   "id": "e8fd48e8",
   "metadata": {
    "id": "e8fd48e8"
   },
   "outputs": [],
   "source": [
    "import requests\n",
    "from io import StringIO\n",
    "import pandas as pd\n",
    "import numpy as np\n",
    "from bs4 import BeautifulSoup\n",
    "import datetime\n",
    "import calendar\n",
    "from sklearn.preprocessing import normalize\n",
    "import time\n",
    "import math\n",
    "import feature_handler as fn\n",
    "from keract import get_activations, display_activations"
   ]
  },
  {
   "cell_type": "code",
   "execution_count": 2,
   "id": "ea371a19",
   "metadata": {
    "id": "ea371a19"
   },
   "outputs": [],
   "source": [
    "## read all data\n",
    "path = \"./data/\" \n",
    "TAIEX_df = pd.read_csv(path+'TXF.csv')\n",
    "columns = ['Date','Open','High','Low','Close','Volume'] \n",
    "TAIEX_df.columns = columns\n",
    "df = TAIEX_df[::-1].reset_index(drop=True)\n",
    "price_df = df.drop(['Date', 'Volume'],axis=1)"
   ]
  },
  {
   "cell_type": "markdown",
   "id": "g9dAwA54Ocl2",
   "metadata": {
    "id": "g9dAwA54Ocl2"
   },
   "source": [
    "## CNN training : \n",
    "- 取開高收低的sliding windows，並進行CNN的訓練\n",
    "- 模型使用 2D CNN 中間包含`flatten`與`Dense`層\n",
    "- 從`Dense`層取出輸出，將輸出進行K-means得分群\n",
    "- 分別取長天期(30天)與短天期(8天)，從而得到兩種價格分群資訊"
   ]
  },
  {
   "cell_type": "code",
   "execution_count": 3,
   "id": "db6bb4ac",
   "metadata": {
    "id": "db6bb4ac",
    "outputId": "95025ce0-2009-490e-a229-d324b1355f97"
   },
   "outputs": [
    {
     "name": "stdout",
     "output_type": "stream",
     "text": [
      "(2903, 30, 4)\n",
      "count:  0    1115\n",
      "-1     998\n",
      " 1     790\n",
      "Name: triple_barrier_signal, dtype: int64\n"
     ]
    }
   ],
   "source": [
    "day = 30\n",
    "long_list = fn.get_series_data(price_df , day , False)\n",
    "print(long_list.shape)\n",
    "\n",
    "ret = fn.triple_barrier(TAIEX_df.Close, 1.04 ,0.97, 20)\n",
    "long_label = ret.triple_barrier_signal[day-1:len(ret)]\n",
    "print('count:' ,long_label.value_counts())\n",
    "long_label = long_label[::-1].reset_index(drop=True)"
   ]
  },
  {
   "cell_type": "code",
   "execution_count": 4,
   "id": "7a8257b5",
   "metadata": {
    "id": "7a8257b5",
    "outputId": "b696642a-6a59-4e26-bd3a-8561b0adbae6"
   },
   "outputs": [
    {
     "name": "stdout",
     "output_type": "stream",
     "text": [
      "Epoch 1/40\n",
      "64/64 [==============================] - 1s 4ms/step - loss: 1.0131 - accuracy: 0.4902 - val_loss: 1.1532 - val_accuracy: 0.4041\n",
      "Epoch 2/40\n",
      "64/64 [==============================] - 0s 2ms/step - loss: 0.9742 - accuracy: 0.5177 - val_loss: 1.1105 - val_accuracy: 0.4512\n",
      "Epoch 3/40\n",
      "64/64 [==============================] - 0s 2ms/step - loss: 0.9496 - accuracy: 0.5281 - val_loss: 1.1753 - val_accuracy: 0.3330\n",
      "Epoch 4/40\n",
      "64/64 [==============================] - 0s 3ms/step - loss: 0.9395 - accuracy: 0.5231 - val_loss: 1.1880 - val_accuracy: 0.3272\n",
      "Epoch 5/40\n",
      "64/64 [==============================] - 0s 2ms/step - loss: 0.9348 - accuracy: 0.5241 - val_loss: 1.2220 - val_accuracy: 0.3341\n",
      "Epoch 6/40\n",
      "64/64 [==============================] - 0s 2ms/step - loss: 0.9334 - accuracy: 0.5359 - val_loss: 1.2401 - val_accuracy: 0.3352\n",
      "Epoch 7/40\n",
      "64/64 [==============================] - 0s 2ms/step - loss: 0.9093 - accuracy: 0.5581 - val_loss: 1.2401 - val_accuracy: 0.3571\n",
      "Epoch 8/40\n",
      "64/64 [==============================] - 0s 3ms/step - loss: 0.9017 - accuracy: 0.5482 - val_loss: 1.1847 - val_accuracy: 0.3858\n",
      "Epoch 9/40\n",
      "64/64 [==============================] - 0s 2ms/step - loss: 0.8964 - accuracy: 0.5625 - val_loss: 1.3191 - val_accuracy: 0.3789\n",
      "Epoch 10/40\n",
      "64/64 [==============================] - 0s 2ms/step - loss: 0.8928 - accuracy: 0.5689 - val_loss: 1.2265 - val_accuracy: 0.3800\n",
      "Epoch 11/40\n",
      "64/64 [==============================] - 0s 3ms/step - loss: 0.8794 - accuracy: 0.5719 - val_loss: 1.3557 - val_accuracy: 0.3846\n",
      "Epoch 12/40\n",
      "64/64 [==============================] - 0s 2ms/step - loss: 0.8718 - accuracy: 0.5832 - val_loss: 1.2573 - val_accuracy: 0.3846\n",
      "Epoch 13/40\n",
      "64/64 [==============================] - 0s 2ms/step - loss: 0.8581 - accuracy: 0.5955 - val_loss: 1.3234 - val_accuracy: 0.3892\n",
      "Epoch 14/40\n",
      "64/64 [==============================] - 0s 3ms/step - loss: 0.8406 - accuracy: 0.5969 - val_loss: 1.2824 - val_accuracy: 0.4007\n",
      "Epoch 15/40\n",
      "64/64 [==============================] - 0s 2ms/step - loss: 0.8390 - accuracy: 0.6068 - val_loss: 1.2479 - val_accuracy: 0.4018\n",
      "Epoch 16/40\n",
      "64/64 [==============================] - 0s 2ms/step - loss: 0.8264 - accuracy: 0.6181 - val_loss: 1.3226 - val_accuracy: 0.4110\n",
      "Epoch 17/40\n",
      "64/64 [==============================] - 0s 2ms/step - loss: 0.8226 - accuracy: 0.6117 - val_loss: 1.3253 - val_accuracy: 0.4053\n",
      "Epoch 18/40\n",
      "64/64 [==============================] - 0s 2ms/step - loss: 0.8152 - accuracy: 0.6186 - val_loss: 1.2497 - val_accuracy: 0.3995\n",
      "Epoch 19/40\n",
      "64/64 [==============================] - 0s 2ms/step - loss: 0.8081 - accuracy: 0.6260 - val_loss: 1.3294 - val_accuracy: 0.3984\n",
      "Epoch 20/40\n",
      "64/64 [==============================] - 0s 2ms/step - loss: 0.7879 - accuracy: 0.6452 - val_loss: 1.2966 - val_accuracy: 0.4076\n",
      "Epoch 21/40\n",
      "64/64 [==============================] - 0s 3ms/step - loss: 0.7892 - accuracy: 0.6339 - val_loss: 1.2888 - val_accuracy: 0.3904\n",
      "Epoch 22/40\n",
      "64/64 [==============================] - 0s 2ms/step - loss: 0.7727 - accuracy: 0.6570 - val_loss: 1.3317 - val_accuracy: 0.4030\n",
      "Epoch 23/40\n",
      "64/64 [==============================] - 0s 2ms/step - loss: 0.7778 - accuracy: 0.6471 - val_loss: 1.3317 - val_accuracy: 0.3881\n",
      "Epoch 24/40\n",
      "64/64 [==============================] - 0s 3ms/step - loss: 0.7654 - accuracy: 0.6462 - val_loss: 1.2954 - val_accuracy: 0.3892\n",
      "Epoch 25/40\n",
      "64/64 [==============================] - 0s 2ms/step - loss: 0.7542 - accuracy: 0.6649 - val_loss: 1.3644 - val_accuracy: 0.3949\n",
      "Epoch 26/40\n",
      "64/64 [==============================] - 0s 2ms/step - loss: 0.7510 - accuracy: 0.6708 - val_loss: 1.4200 - val_accuracy: 0.3915\n",
      "Epoch 27/40\n",
      "64/64 [==============================] - 0s 2ms/step - loss: 0.7218 - accuracy: 0.6786 - val_loss: 1.3861 - val_accuracy: 0.3915\n",
      "Epoch 28/40\n",
      "64/64 [==============================] - 0s 3ms/step - loss: 0.7307 - accuracy: 0.6762 - val_loss: 1.4252 - val_accuracy: 0.3869\n",
      "Epoch 29/40\n",
      "64/64 [==============================] - 0s 2ms/step - loss: 0.7269 - accuracy: 0.6772 - val_loss: 1.3809 - val_accuracy: 0.3904\n",
      "Epoch 30/40\n",
      "64/64 [==============================] - 0s 2ms/step - loss: 0.6983 - accuracy: 0.6998 - val_loss: 1.4246 - val_accuracy: 0.3697\n",
      "Epoch 31/40\n",
      "64/64 [==============================] - 0s 2ms/step - loss: 0.6863 - accuracy: 0.6988 - val_loss: 1.4482 - val_accuracy: 0.3858\n",
      "Epoch 32/40\n",
      "64/64 [==============================] - 0s 2ms/step - loss: 0.6687 - accuracy: 0.7101 - val_loss: 1.4133 - val_accuracy: 0.3846\n",
      "Epoch 33/40\n",
      "64/64 [==============================] - 0s 2ms/step - loss: 0.6592 - accuracy: 0.7185 - val_loss: 1.4398 - val_accuracy: 0.3961\n",
      "Epoch 34/40\n",
      "64/64 [==============================] - 0s 2ms/step - loss: 0.6560 - accuracy: 0.7249 - val_loss: 1.5098 - val_accuracy: 0.3869\n",
      "Epoch 35/40\n",
      "64/64 [==============================] - 0s 2ms/step - loss: 0.6405 - accuracy: 0.7318 - val_loss: 1.4910 - val_accuracy: 0.3915\n",
      "Epoch 36/40\n",
      "64/64 [==============================] - 0s 2ms/step - loss: 0.6265 - accuracy: 0.7333 - val_loss: 1.5686 - val_accuracy: 0.3582\n",
      "Epoch 37/40\n",
      "64/64 [==============================] - 0s 3ms/step - loss: 0.6140 - accuracy: 0.7456 - val_loss: 1.5233 - val_accuracy: 0.3915\n",
      "Epoch 38/40\n",
      "64/64 [==============================] - 0s 2ms/step - loss: 0.6091 - accuracy: 0.7559 - val_loss: 1.5511 - val_accuracy: 0.3777\n",
      "Epoch 39/40\n",
      "64/64 [==============================] - 0s 3ms/step - loss: 0.5947 - accuracy: 0.7456 - val_loss: 1.6049 - val_accuracy: 0.3490\n",
      "Epoch 40/40\n",
      "64/64 [==============================] - 0s 3ms/step - loss: 0.5821 - accuracy: 0.7731 - val_loss: 1.6484 - val_accuracy: 0.3662\n",
      "Test loss: [1.64839768409729, 0.36624568700790405]\n",
      "Test accuracy: [1.64839768409729, 0.36624568700790405]\n"
     ]
    }
   ],
   "source": [
    "## CNN Training\n",
    "model = fn.cnn_training(long_list,long_label , day , 0.3 , 40)\n",
    "\n",
    "## 取得CNN 最後一層的output\n",
    "flatten_list = []\n",
    "for periodData in long_list :\n",
    "    keract_inputs = periodData.reshape(1 , long_list.shape[1], long_list.shape[2],1)\n",
    "    activations = get_activations(model, keract_inputs)\n",
    "    flatten_list.append(activations['Dense'])\n",
    "\n",
    "## 分群\n",
    "long_cluster_label = pd.Series(fn.get_cluster(flatten_list, 3))"
   ]
  },
  {
   "cell_type": "code",
   "execution_count": 5,
   "id": "24c09ffb",
   "metadata": {
    "id": "24c09ffb",
    "outputId": "8d8c03fd-5abe-444f-8653-5144a7598672"
   },
   "outputs": [
    {
     "data": {
      "text/plain": [
       "1    1138\n",
       "0     999\n",
       "2     766\n",
       "dtype: int64"
      ]
     },
     "execution_count": 5,
     "metadata": {},
     "output_type": "execute_result"
    }
   ],
   "source": [
    "long_cluster_label.value_counts()"
   ]
  },
  {
   "cell_type": "code",
   "execution_count": 6,
   "id": "2f87030c",
   "metadata": {
    "id": "2f87030c",
    "outputId": "b8ef1623-1335-4546-e1d4-f565319a9a49"
   },
   "outputs": [
    {
     "name": "stdout",
     "output_type": "stream",
     "text": [
      "(2925, 8, 4)\n",
      "count:  1    1275\n",
      "-1    1073\n",
      " 0     577\n",
      "Name: triple_barrier_signal, dtype: int64\n"
     ]
    }
   ],
   "source": [
    "## 短天期，過程與上面相同\n",
    "day = 8\n",
    "short_list = fn.get_series_data(price_df , day , True)\n",
    "print(short_list.shape)\n",
    "\n",
    "##　短天期使用短label\n",
    "ret = fn.triple_barrier(TAIEX_df.Close, 1.01 ,0.99, 5)\n",
    "short_label = ret.triple_barrier_signal[day-1:len(ret)]\n",
    "print('count:' ,short_label.value_counts())\n",
    "short_label = short_label[::-1].reset_index(drop=True)"
   ]
  },
  {
   "cell_type": "code",
   "execution_count": 7,
   "id": "533081d8",
   "metadata": {
    "id": "533081d8",
    "outputId": "6ecd82dc-e4ee-4361-fbcd-009f742929ef"
   },
   "outputs": [
    {
     "name": "stdout",
     "output_type": "stream",
     "text": [
      "Epoch 1/20\n",
      "64/64 [==============================] - 0s 3ms/step - loss: 1.0647 - accuracy: 0.4069 - val_loss: 1.0094 - val_accuracy: 0.4932\n",
      "Epoch 2/20\n",
      "64/64 [==============================] - 0s 1ms/step - loss: 1.0472 - accuracy: 0.4275 - val_loss: 1.0092 - val_accuracy: 0.4932\n",
      "Epoch 3/20\n",
      "64/64 [==============================] - 0s 2ms/step - loss: 1.0463 - accuracy: 0.4128 - val_loss: 1.0192 - val_accuracy: 0.4932\n",
      "Epoch 4/20\n",
      "64/64 [==============================] - 0s 2ms/step - loss: 1.0405 - accuracy: 0.4377 - val_loss: 1.0123 - val_accuracy: 0.4909\n",
      "Epoch 5/20\n",
      "64/64 [==============================] - 0s 1ms/step - loss: 1.0349 - accuracy: 0.4265 - val_loss: 1.0223 - val_accuracy: 0.4544\n",
      "Epoch 6/20\n",
      "64/64 [==============================] - 0s 1ms/step - loss: 1.0354 - accuracy: 0.4348 - val_loss: 1.0133 - val_accuracy: 0.4784\n",
      "Epoch 7/20\n",
      "64/64 [==============================] - 0s 1ms/step - loss: 1.0332 - accuracy: 0.4441 - val_loss: 1.0154 - val_accuracy: 0.4647\n",
      "Epoch 8/20\n",
      "64/64 [==============================] - 0s 1ms/step - loss: 1.0286 - accuracy: 0.4328 - val_loss: 1.0184 - val_accuracy: 0.4442\n",
      "Epoch 9/20\n",
      "64/64 [==============================] - 0s 2ms/step - loss: 1.0297 - accuracy: 0.4421 - val_loss: 1.0205 - val_accuracy: 0.4624\n",
      "Epoch 10/20\n",
      "64/64 [==============================] - 0s 2ms/step - loss: 1.0259 - accuracy: 0.4568 - val_loss: 1.0197 - val_accuracy: 0.4601\n",
      "Epoch 11/20\n",
      "64/64 [==============================] - 0s 1ms/step - loss: 1.0278 - accuracy: 0.4509 - val_loss: 1.0244 - val_accuracy: 0.4419\n",
      "Epoch 12/20\n",
      "64/64 [==============================] - 0s 1ms/step - loss: 1.0183 - accuracy: 0.4646 - val_loss: 1.0237 - val_accuracy: 0.4419\n",
      "Epoch 13/20\n",
      "64/64 [==============================] - 0s 1ms/step - loss: 1.0146 - accuracy: 0.4704 - val_loss: 1.0326 - val_accuracy: 0.4385\n",
      "Epoch 14/20\n",
      "64/64 [==============================] - 0s 1ms/step - loss: 1.0180 - accuracy: 0.4607 - val_loss: 1.0386 - val_accuracy: 0.3929\n",
      "Epoch 15/20\n",
      "64/64 [==============================] - 0s 1ms/step - loss: 1.0134 - accuracy: 0.4563 - val_loss: 1.0317 - val_accuracy: 0.4100\n",
      "Epoch 16/20\n",
      "64/64 [==============================] - 0s 1ms/step - loss: 1.0102 - accuracy: 0.4734 - val_loss: 1.0311 - val_accuracy: 0.4431\n",
      "Epoch 17/20\n",
      "64/64 [==============================] - 0s 1ms/step - loss: 1.0040 - accuracy: 0.4763 - val_loss: 1.0514 - val_accuracy: 0.3827\n",
      "Epoch 18/20\n",
      "64/64 [==============================] - 0s 1ms/step - loss: 1.0145 - accuracy: 0.4577 - val_loss: 1.0302 - val_accuracy: 0.4362\n",
      "Epoch 19/20\n",
      "64/64 [==============================] - 0s 1ms/step - loss: 0.9990 - accuracy: 0.4861 - val_loss: 1.0542 - val_accuracy: 0.3759\n",
      "Epoch 20/20\n",
      "64/64 [==============================] - 0s 1ms/step - loss: 1.0017 - accuracy: 0.4807 - val_loss: 1.0429 - val_accuracy: 0.4123\n",
      "Test loss: [1.0429333448410034, 0.4123006761074066]\n",
      "Test accuracy: [1.0429333448410034, 0.4123006761074066]\n",
      "2925 2    820\n",
      "3    695\n",
      "1    423\n",
      "4    422\n",
      "5    297\n",
      "0    268\n",
      "dtype: int64\n"
     ]
    }
   ],
   "source": [
    "## CNN Training\n",
    "model = fn.cnn_training(short_list,short_label , day , 0.3 , 20)\n",
    "\n",
    "## 取得CNN 最後一層的output\n",
    "flatten_list = []\n",
    "for periodData in short_list :\n",
    "    keract_inputs = periodData.reshape(1 , short_list.shape[1], short_list.shape[2],1)\n",
    "    activations = get_activations(model, keract_inputs)\n",
    "    flatten_list.append(activations['Dense'])\n",
    "\n",
    "short_cluster_label = pd.Series(fn.get_cluster(flatten_list, 6))\n",
    "print (len(short_cluster_label), short_cluster_label.value_counts())"
   ]
  },
  {
   "cell_type": "code",
   "execution_count": 8,
   "id": "c6aca6c4",
   "metadata": {
    "id": "c6aca6c4"
   },
   "outputs": [],
   "source": [
    "## 讓短天期與長天期等長\n",
    "short_cluster_label = short_cluster_label[:len(long_cluster_label)]"
   ]
  },
  {
   "cell_type": "code",
   "execution_count": 9,
   "id": "83a02f81",
   "metadata": {
    "id": "83a02f81",
    "outputId": "696158d9-cd9c-4303-cd5b-a89656028e68"
   },
   "outputs": [
    {
     "data": {
      "text/plain": [
       "0       2\n",
       "1       2\n",
       "2       2\n",
       "3       2\n",
       "4       2\n",
       "       ..\n",
       "2898    2\n",
       "2899    0\n",
       "2900    0\n",
       "2901    4\n",
       "2902    4\n",
       "Length: 2903, dtype: int32"
      ]
     },
     "execution_count": 9,
     "metadata": {},
     "output_type": "execute_result"
    }
   ],
   "source": [
    "short_cluster_label"
   ]
  },
  {
   "cell_type": "code",
   "execution_count": 10,
   "id": "b15eeefd",
   "metadata": {
    "id": "b15eeefd"
   },
   "outputs": [],
   "source": [
    "# 讀取其他指標的資料\n",
    "\n",
    "TAIEX_Index = pd.read_csv(path+'TXF_Index.csv')\n",
    "X = TAIEX_Index[::-1].reset_index(drop=True)[:len(short_cluster_label)]"
   ]
  },
  {
   "cell_type": "code",
   "execution_count": 11,
   "id": "3e028b58",
   "metadata": {
    "id": "3e028b58"
   },
   "outputs": [],
   "source": [
    "Y = pd.DataFrame()\n",
    "Y['long'] = long_label\n",
    "Y['short'] = short_label[:len(long_label)]"
   ]
  },
  {
   "cell_type": "code",
   "execution_count": 12,
   "id": "ab71b39a",
   "metadata": {},
   "outputs": [
    {
     "data": {
      "text/plain": [
       "0       0\n",
       "1       0\n",
       "2       0\n",
       "3       0\n",
       "4       0\n",
       "       ..\n",
       "2898    1\n",
       "2899    1\n",
       "2900    1\n",
       "2901    1\n",
       "2902    1\n",
       "Name: triple_barrier_signal, Length: 2903, dtype: int64"
      ]
     },
     "execution_count": 12,
     "metadata": {},
     "output_type": "execute_result"
    }
   ],
   "source": [
    "long_label"
   ]
  },
  {
   "cell_type": "markdown",
   "id": "42cb3298",
   "metadata": {
    "id": "42cb3298"
   },
   "source": [
    "## training feature : train with all feature\n",
    "- several index and time serises price data\n",
    "---\n",
    "## XGBoost"
   ]
  },
  {
   "cell_type": "code",
   "execution_count": 13,
   "id": "295fe03b",
   "metadata": {
    "id": "295fe03b"
   },
   "outputs": [],
   "source": [
    "## 將天期分群加入指標 DataFrame\n",
    "X['long_cluster'] = long_cluster_label\n",
    "X['short_cluster'] = short_cluster_label"
   ]
  },
  {
   "cell_type": "code",
   "execution_count": 14,
   "id": "cb10d909",
   "metadata": {
    "id": "cb10d909"
   },
   "outputs": [],
   "source": [
    "from sklearn.metrics import confusion_matrix\n",
    "from sklearn.metrics import average_precision_score, precision_score, recall_score\n",
    "from xgboost import XGBClassifier\n",
    "from sklearn.metrics import precision_recall_fscore_support as score\n",
    "from sklearn import metrics\n",
    "from sklearn import svm"
   ]
  },
  {
   "cell_type": "code",
   "execution_count": 15,
   "id": "a0436693",
   "metadata": {
    "id": "a0436693",
    "outputId": "2eaced06-854f-45c2-fdf0-ccebe2b9baa4"
   },
   "outputs": [
    {
     "name": "stdout",
     "output_type": "stream",
     "text": [
      "label :  long\n",
      "test date start form  2021/11/30 to 2017/3/9\n"
     ]
    },
    {
     "name": "stderr",
     "output_type": "stream",
     "text": [
      "C:\\Users\\kevin\\anaconda3\\lib\\site-packages\\xgboost\\sklearn.py:1224: UserWarning: The use of label encoder in XGBClassifier is deprecated and will be removed in a future release. To remove this warning, do the following: 1) Pass option use_label_encoder=False when constructing XGBClassifier object; and 2) Encode your labels (y) as integers starting with 0, i.e. 0, 1, 2, ..., [num_class - 1].\n",
      "  warnings.warn(label_encoder_deprecation_msg, UserWarning)\n"
     ]
    },
    {
     "name": "stdout",
     "output_type": "stream",
     "text": [
      "precision(-1, 0, 1): [0.35042735 0.47398031 0.43      ]\n",
      "recall score(-1, 0, 1): [0.35446686 0.73580786 0.12044818]\n",
      "label :  short\n",
      "test date start form  2021/11/30 to 2017/3/9\n"
     ]
    },
    {
     "name": "stderr",
     "output_type": "stream",
     "text": [
      "C:\\Users\\kevin\\anaconda3\\lib\\site-packages\\xgboost\\sklearn.py:1224: UserWarning: The use of label encoder in XGBClassifier is deprecated and will be removed in a future release. To remove this warning, do the following: 1) Pass option use_label_encoder=False when constructing XGBClassifier object; and 2) Encode your labels (y) as integers starting with 0, i.e. 0, 1, 2, ..., [num_class - 1].\n",
      "  warnings.warn(label_encoder_deprecation_msg, UserWarning)\n"
     ]
    },
    {
     "name": "stdout",
     "output_type": "stream",
     "text": [
      "precision(-1, 0, 1): [0.375      0.43693694 0.53875969]\n",
      "recall score(-1, 0, 1): [0.41623037 0.39917695 0.51769088]\n"
     ]
    }
   ],
   "source": [
    "label_ = ['long' , 'short']\n",
    "predict_ = pd.DataFrame()\n",
    "isFirst = True\n",
    "for label in label_ :\n",
    "    test_ratio = 0.4\n",
    "    trainp = X [math.ceil(len(X)*test_ratio) :].reset_index(drop = True)\n",
    "    testp = X [ : math.ceil(len(X)*test_ratio)]\n",
    "    print(\"label : \", label )\n",
    "    print(\"test date start form \", testp.date[0],\"to\", testp.date[len(testp)-1] )\n",
    "\n",
    "    X_train = trainp.drop(['date'],axis = 1)\n",
    "    y_train = Y[label][math.ceil(len(X)*test_ratio) :]\n",
    "\n",
    "    X_test = testp.drop(['date'],axis = 1)\n",
    "    y_test = Y[label] [ : math.ceil(len(X)*test_ratio)]\n",
    "\n",
    "    #X_train, y_train = SMOTE(random_state=42).fit_resample(X_train, y_train)\n",
    "    #ros = RandomOverSampler(random_state = 40)\n",
    "\n",
    "    #X_train, y_train = ros.fit_resample(X_train, y_train)\n",
    "\n",
    "    xgbc = XGBClassifier(base_score=0.5, booster='gbtree', colsample_bylevel=0.8,\n",
    "                  colsample_bynode=1, colsample_bytree=0.6, gamma=0.01, gpu_id=-1,\n",
    "                  importance_type='gain',learning_rate=0.1, max_delta_step=0, max_depth=3,\n",
    "                  min_child_weight=1, monotone_constraints='()',\n",
    "                  n_estimators=200, n_jobs=4, nthread=-1, eval_metric='mlogloss',\n",
    "                  random_state=27, reg_alpha=0, reg_lambda=1,\n",
    "                  seed=27, subsample=1, tree_method='exact',\n",
    "                  validate_parameters=1, verbosity=None)\n",
    "    \n",
    "    xgbc.fit(X_train,y_train)\n",
    "    y_test_predp = xgbc.predict(X_test)\n",
    "    y_train_predp = xgbc.predict(X_train)\n",
    "    precision, recall, f1, _ = score(y_test, y_test_predp)\n",
    "    print ( \"precision(-1, 0, 1):\" ,precision )    \n",
    "    print ( \"recall score(-1, 0, 1):\" ,recall )\n",
    "    \n",
    "    if isFirst :\n",
    "        predict_['date'] = testp.date\n",
    "        isFirst = False\n",
    "    predict_[label] = y_test_predp"
   ]
  },
  {
   "cell_type": "code",
   "execution_count": 16,
   "id": "7733050a",
   "metadata": {
    "id": "7733050a",
    "outputId": "58de68cb-95e5-43db-97c6-2571513c8f47"
   },
   "outputs": [
    {
     "data": {
      "image/png": "[encoded data removed]",
      "text/plain": [
       "<Figure size 432x288 with 1 Axes>"
      ]
     },
     "metadata": {
      "needs_background": "light"
     },
     "output_type": "display_data"
    }
   ],
   "source": [
    "# feature important plot\n",
    "from matplotlib import pyplot as plt\n",
    "def f_importances(coef, names):\n",
    "    imp = coef\n",
    "    imp,names = zip(*sorted(zip(imp,names)))\n",
    "    plt.barh(range(len(names)), imp, align='center')\n",
    "    plt.yticks(range(len(names)), names)\n",
    "    plt.show()\n",
    "    \n",
    "f_importances(xgbc.feature_importances_, X_train.columns)"
   ]
  },
  {
   "cell_type": "code",
   "execution_count": 17,
   "id": "1271c343",
   "metadata": {
    "id": "1271c343"
   },
   "outputs": [],
   "source": [
    "predict_.to_csv('./result/XGBoost.csv',index=False, encoding='utf-8')"
   ]
  },
  {
   "cell_type": "markdown",
   "id": "456c34fe",
   "metadata": {
    "id": "456c34fe"
   },
   "source": [
    "---\n",
    "## SVM"
   ]
  },
  {
   "cell_type": "code",
   "execution_count": 18,
   "id": "48b32bf0",
   "metadata": {
    "id": "48b32bf0",
    "outputId": "c025538e-7c14-46b7-d2d8-250748e77f67"
   },
   "outputs": [
    {
     "name": "stdout",
     "output_type": "stream",
     "text": [
      "label :  long\n",
      "test date start form  2021/11/30 to 2018/5/15\n",
      "precision(-1, 0, 1): [0.34341253 0.35677083 0.58333333]\n",
      "recall score(-1, 0, 1): [0.54266212 0.52490421 0.04416404]\n",
      "label :  short\n",
      "test date start form  2021/11/30 to 2018/5/15\n",
      "precision(-1, 0, 1): [0.35338346 0.23529412 0.52649007]\n",
      "recall score(-1, 0, 1): [0.46078431 0.2919708  0.37149533]\n"
     ]
    }
   ],
   "source": [
    "label_ = ['long' , 'short']\n",
    "cluster = [0,1,2]\n",
    "\n",
    "predict_ = pd.DataFrame()\n",
    "isFirst = True\n",
    "for label in label_ :\n",
    "    test_ratio = 0.3\n",
    "    trainp = X [math.ceil(len(X)*test_ratio) :].reset_index(drop = True)\n",
    "    testp = X [ : math.ceil(len(X)*test_ratio)]\n",
    "    print(\"label : \", label )\n",
    "    print(\"test date start form \", testp.date[0],\"to\", testp.date[len(testp)-1] )\n",
    "\n",
    "    X_train = trainp.drop(['date'],axis = 1)\n",
    "    y_train = Y[label][math.ceil(len(X)*test_ratio) :]\n",
    "\n",
    "    X_test = testp.drop(['date'],axis = 1)\n",
    "    y_test = Y[label] [ : math.ceil(len(X)*test_ratio)]\n",
    "\n",
    "    #X_train, y_train = SMOTE(random_state=42).fit_resample(X_train, y_train)\n",
    "    #ros = RandomOverSampler(random_state = 40)\n",
    "\n",
    "    #X_train, y_train = ros.fit_resample(X_train, y_train)\n",
    "\n",
    "    clf=svm.SVC(kernel='linear',C=1,gamma='auto',degree=3)\n",
    "    \n",
    "    clf.fit(X_train,y_train)\n",
    "    y_test_predp = clf.predict(X_test)\n",
    "    y_train_predp = clf.predict(X_train)\n",
    "    precision, recall, f1, _ = score(y_test, y_test_predp)\n",
    "    print ( \"precision(-1, 0, 1):\" ,precision )\n",
    "    print ( \"recall score(-1, 0, 1):\" ,recall )\n",
    "    \n",
    "    if isFirst :\n",
    "        predict_['date'] = testp.date\n",
    "        isFirst = False\n",
    "    predict_[label] = y_test_predp"
   ]
  },
  {
   "cell_type": "code",
   "execution_count": 19,
   "id": "3df008b4",
   "metadata": {
    "id": "3df008b4"
   },
   "outputs": [],
   "source": [
    "predict_.to_csv('./result/Svm.csv',index=False, encoding='utf-8')"
   ]
  },
  {
   "cell_type": "code",
   "execution_count": 20,
   "id": "e3831639",
   "metadata": {
    "id": "e3831639",
    "outputId": "5a309c50-1efb-4149-a90a-3e8c28172bca"
   },
   "outputs": [
    {
     "data": {
      "image/png": "[encoded data removed]",
      "text/plain": [
       "<Figure size 432x288 with 1 Axes>"
      ]
     },
     "metadata": {
      "needs_background": "light"
     },
     "output_type": "display_data"
    }
   ],
   "source": [
    "# feature important plot\n",
    "from matplotlib import pyplot as plt\n",
    "def f_importances(coef, names):\n",
    "    imp = coef\n",
    "    imp,names = zip(*sorted(zip(imp,names)))\n",
    "    plt.barh(range(len(names)), imp, align='center')\n",
    "    plt.yticks(range(len(names)), names)\n",
    "    plt.show()\n",
    "    \n",
    "f_importances(clf.coef_[2], X_train.columns)"
   ]
  },
  {
   "cell_type": "markdown",
   "id": "13a99d40",
   "metadata": {
    "id": "13a99d40"
   },
   "source": [
    "## training feature : by each cluster\n",
    "- several index and time serises price data\n",
    "---\n",
    "## XGBoost"
   ]
  },
  {
   "cell_type": "code",
   "execution_count": 21,
   "id": "3b356d98",
   "metadata": {
    "id": "3b356d98",
    "outputId": "ea9a5d43-2a55-4973-dfb9-29b971b3672c"
   },
   "outputs": [
    {
     "name": "stdout",
     "output_type": "stream",
     "text": [
      "cluster :  0\n",
      "label :  long\n",
      "test date start form  2021/11/30 to 2017/3/9\n",
      "precision(-1, 0, 1): [0.43181818 0.38953488 0.        ]\n",
      "recall score(-1, 0, 1): [0.26760563 0.84810127 0.        ]\n"
     ]
    },
    {
     "name": "stderr",
     "output_type": "stream",
     "text": [
      "C:\\Users\\kevin\\anaconda3\\lib\\site-packages\\xgboost\\sklearn.py:1224: UserWarning: The use of label encoder in XGBClassifier is deprecated and will be removed in a future release. To remove this warning, do the following: 1) Pass option use_label_encoder=False when constructing XGBClassifier object; and 2) Encode your labels (y) as integers starting with 0, i.e. 0, 1, 2, ..., [num_class - 1].\n",
      "  warnings.warn(label_encoder_deprecation_msg, UserWarning)\n",
      "C:\\Users\\kevin\\anaconda3\\lib\\site-packages\\sklearn\\metrics\\_classification.py:1248: UndefinedMetricWarning: Precision and F-score are ill-defined and being set to 0.0 in labels with no predicted samples. Use `zero_division` parameter to control this behavior.\n",
      "  _warn_prf(average, modifier, msg_start, len(result))\n"
     ]
    },
    {
     "name": "stdout",
     "output_type": "stream",
     "text": [
      "label :  short\n",
      "test date start form  2021/11/30 to 2017/3/9\n",
      "precision(-1, 0, 1): [0.36981132 0.37121212 0.54285714]\n",
      "recall score(-1, 0, 1): [0.68531469 0.43362832 0.10795455]\n",
      "cluster :  1\n",
      "label :  long\n",
      "test date start form  2021/11/30 to 2017/3/9\n"
     ]
    },
    {
     "name": "stderr",
     "output_type": "stream",
     "text": [
      "C:\\Users\\kevin\\anaconda3\\lib\\site-packages\\xgboost\\sklearn.py:1224: UserWarning: The use of label encoder in XGBClassifier is deprecated and will be removed in a future release. To remove this warning, do the following: 1) Pass option use_label_encoder=False when constructing XGBClassifier object; and 2) Encode your labels (y) as integers starting with 0, i.e. 0, 1, 2, ..., [num_class - 1].\n",
      "  warnings.warn(label_encoder_deprecation_msg, UserWarning)\n",
      "C:\\Users\\kevin\\anaconda3\\lib\\site-packages\\xgboost\\sklearn.py:1224: UserWarning: The use of label encoder in XGBClassifier is deprecated and will be removed in a future release. To remove this warning, do the following: 1) Pass option use_label_encoder=False when constructing XGBClassifier object; and 2) Encode your labels (y) as integers starting with 0, i.e. 0, 1, 2, ..., [num_class - 1].\n",
      "  warnings.warn(label_encoder_deprecation_msg, UserWarning)\n"
     ]
    },
    {
     "name": "stdout",
     "output_type": "stream",
     "text": [
      "precision(-1, 0, 1): [0.31954887 0.         0.45454545]\n",
      "recall score(-1, 0, 1): [0.75221239 0.         0.26315789]\n",
      "label :  short\n",
      "test date start form  2021/11/30 to 2017/3/9\n",
      "precision(-1, 0, 1): [0.39873418 0.         0.56410256]\n",
      "recall score(-1, 0, 1): [0.47727273 0.         0.56994819]\n",
      "cluster :  2\n",
      "label :  long\n",
      "test date start form  2021/11/30 to 2017/3/9\n"
     ]
    },
    {
     "name": "stderr",
     "output_type": "stream",
     "text": [
      "C:\\Users\\kevin\\anaconda3\\lib\\site-packages\\xgboost\\sklearn.py:1224: UserWarning: The use of label encoder in XGBClassifier is deprecated and will be removed in a future release. To remove this warning, do the following: 1) Pass option use_label_encoder=False when constructing XGBClassifier object; and 2) Encode your labels (y) as integers starting with 0, i.e. 0, 1, 2, ..., [num_class - 1].\n",
      "  warnings.warn(label_encoder_deprecation_msg, UserWarning)\n",
      "C:\\Users\\kevin\\anaconda3\\lib\\site-packages\\xgboost\\sklearn.py:1224: UserWarning: The use of label encoder in XGBClassifier is deprecated and will be removed in a future release. To remove this warning, do the following: 1) Pass option use_label_encoder=False when constructing XGBClassifier object; and 2) Encode your labels (y) as integers starting with 0, i.e. 0, 1, 2, ..., [num_class - 1].\n",
      "  warnings.warn(label_encoder_deprecation_msg, UserWarning)\n"
     ]
    },
    {
     "name": "stdout",
     "output_type": "stream",
     "text": [
      "precision(-1, 0, 1): [0.         0.55907781 0.05      ]\n",
      "recall score(-1, 0, 1): [0.         0.92822967 0.01369863]\n",
      "label :  short\n",
      "test date start form  2021/11/30 to 2017/3/9\n",
      "precision(-1, 0, 1): [0.41176471 0.51898734 0.51798561]\n",
      "recall score(-1, 0, 1): [0.06542056 0.41414141 0.85714286]\n"
     ]
    },
    {
     "name": "stderr",
     "output_type": "stream",
     "text": [
      "C:\\Users\\kevin\\anaconda3\\lib\\site-packages\\xgboost\\sklearn.py:1224: UserWarning: The use of label encoder in XGBClassifier is deprecated and will be removed in a future release. To remove this warning, do the following: 1) Pass option use_label_encoder=False when constructing XGBClassifier object; and 2) Encode your labels (y) as integers starting with 0, i.e. 0, 1, 2, ..., [num_class - 1].\n",
      "  warnings.warn(label_encoder_deprecation_msg, UserWarning)\n"
     ]
    }
   ],
   "source": [
    "label_ = ['long' , 'short']\n",
    "cluster_ = [0,1,2]\n",
    "predict_ = pd.DataFrame()\n",
    "isFirst = True\n",
    "for cluster in cluster_ :\n",
    "    print ('cluster : ' , cluster)\n",
    "    for label in label_ :\n",
    "        test_ratio = 0.4\n",
    "        trainp = X [math.ceil(len(X)*test_ratio) :].reset_index(drop = True)\n",
    "        testp = X [ : math.ceil(len(X)*test_ratio)]\n",
    "        print(\"label : \", label )\n",
    "        print(\"test date start form \", testp.date[0],\"to\", testp.date[len(testp)-1] )\n",
    "\n",
    "        X_train = trainp.drop(['date'],axis = 1).reset_index(drop = True)\n",
    "        y_train = Y[label][math.ceil(len(X)*test_ratio) :].reset_index(drop = True)\n",
    "        \n",
    "        \n",
    "        X_test = testp.drop(['date'],axis = 1).reset_index(drop = True)\n",
    "        y_test = Y[label] [ : math.ceil(len(X)*test_ratio)].reset_index(drop = True)\n",
    "        \n",
    "        X_train_cluster = X_train[X_train.long_cluster==cluster]\n",
    "        y_train_cluster = y_train[X_train.long_cluster==cluster]\n",
    "        \n",
    "        \n",
    "        X_test_cluster =  X_test[X_test.long_cluster==cluster]\n",
    "        y_test_cluster = y_test[X_test.long_cluster==cluster]\n",
    "\n",
    "        #X_train, y_train = SMOTE(random_state=42).fit_resample(X_train, y_train)\n",
    "        #ros = RandomOverSampler(random_state = 40)\n",
    "\n",
    "        #X_train, y_train = ros.fit_resample(X_train, y_train)\n",
    "\n",
    "        xgbc = XGBClassifier(base_score=0.5, booster='gbtree', colsample_bylevel=0.8,\n",
    "                      colsample_bynode=1, colsample_bytree=0.6, gamma=0.01, gpu_id=-1,\n",
    "                      importance_type='gain',learning_rate=0.1, max_delta_step=0, max_depth=2,\n",
    "                      min_child_weight=1, monotone_constraints='()',\n",
    "                      n_estimators=200, n_jobs=4, nthread=-1, eval_metric='mlogloss',\n",
    "                      random_state=27, reg_alpha=0, reg_lambda=1,\n",
    "                      seed=27, subsample=1, tree_method='exact',\n",
    "                      validate_parameters=1,  verbosity = 0)\n",
    "\n",
    "        xgbc.fit(X_train_cluster,y_train_cluster)\n",
    "        y_test_predp = xgbc.predict(X_test_cluster)\n",
    "\n",
    "        precision, recall, f1, _ = score(y_test_cluster, y_test_predp)\n",
    "        print ( \"precision(-1, 0, 1):\" ,precision )\n",
    "        print ( \"recall score(-1, 0, 1):\" ,recall )\n",
    "#         if isFirst :\n",
    "#             predict_['date'] = testp.date\n",
    "#             isFirst = False\n",
    "#         predict_[label] = y_test_predp"
   ]
  },
  {
   "cell_type": "code",
   "execution_count": 22,
   "id": "e4918297",
   "metadata": {
    "id": "e4918297",
    "outputId": "a94d3aae-854b-4553-98fd-b8526338f62c"
   },
   "outputs": [
    {
     "name": "stdout",
     "output_type": "stream",
     "text": [
      "cluster :  0\n",
      "label :  long\n",
      "test date start form  2021/11/30 to 2017/3/9\n",
      "precision(-1, 0, 1): [0.         0.36658933 1.        ]\n",
      "recall score(-1, 0, 1): [0.         1.         0.00757576]\n",
      "label :  short\n",
      "test date start form  2021/11/30 to 2017/3/9\n",
      "precision(-1, 0, 1): [0.37333333 0.32278481 0.51020408]\n",
      "recall score(-1, 0, 1): [0.58741259 0.45132743 0.14204545]\n",
      "cluster :  1\n",
      "label :  long\n",
      "test date start form  2021/11/30 to 2017/3/9\n",
      "precision(-1, 0, 1): [0.32958801 0.         0.48235294]\n",
      "recall score(-1, 0, 1): [0.77876106 0.         0.26973684]\n",
      "label :  short\n",
      "test date start form  2021/11/30 to 2017/3/9\n",
      "precision(-1, 0, 1): [0.39568345 0.         0.55868545]\n",
      "recall score(-1, 0, 1): [0.41666667 0.         0.61658031]\n",
      "cluster :  2\n",
      "label :  long\n",
      "test date start form  2021/11/30 to 2017/3/9\n",
      "precision(-1, 0, 1): [0.         0.55882353 0.        ]\n",
      "recall score(-1, 0, 1): [0. 1. 0.]\n",
      "label :  short\n",
      "test date start form  2021/11/30 to 2017/3/9\n",
      "precision(-1, 0, 1): [0.         0.         0.45040214]\n",
      "recall score(-1, 0, 1): [0. 0. 1.]\n"
     ]
    },
    {
     "name": "stderr",
     "output_type": "stream",
     "text": [
      "C:\\Users\\kevin\\anaconda3\\lib\\site-packages\\sklearn\\metrics\\_classification.py:1248: UndefinedMetricWarning: Precision and F-score are ill-defined and being set to 0.0 in labels with no predicted samples. Use `zero_division` parameter to control this behavior.\n",
      "  _warn_prf(average, modifier, msg_start, len(result))\n",
      "C:\\Users\\kevin\\anaconda3\\lib\\site-packages\\sklearn\\metrics\\_classification.py:1248: UndefinedMetricWarning: Precision and F-score are ill-defined and being set to 0.0 in labels with no predicted samples. Use `zero_division` parameter to control this behavior.\n",
      "  _warn_prf(average, modifier, msg_start, len(result))\n",
      "C:\\Users\\kevin\\anaconda3\\lib\\site-packages\\sklearn\\metrics\\_classification.py:1248: UndefinedMetricWarning: Precision and F-score are ill-defined and being set to 0.0 in labels with no predicted samples. Use `zero_division` parameter to control this behavior.\n",
      "  _warn_prf(average, modifier, msg_start, len(result))\n"
     ]
    }
   ],
   "source": [
    "label_ = ['long' , 'short']\n",
    "cluster_ = [0,1,2]\n",
    "predict_ = pd.DataFrame()\n",
    "isFirst = True\n",
    "for cluster in cluster_ :\n",
    "    print ('cluster : ' , cluster)\n",
    "    for label in label_ :\n",
    "        test_ratio = 0.4\n",
    "        trainp = X [math.ceil(len(X)*test_ratio) :].reset_index(drop = True)\n",
    "        testp = X [ : math.ceil(len(X)*test_ratio)]\n",
    "        print(\"label : \", label )\n",
    "        print(\"test date start form \", testp.date[0],\"to\", testp.date[len(testp)-1] )\n",
    "\n",
    "        X_train = trainp.drop(['date'],axis = 1).reset_index(drop = True)\n",
    "        y_train = Y[label][math.ceil(len(X)*test_ratio) :].reset_index(drop = True)\n",
    "        \n",
    "        \n",
    "        X_test = testp.drop(['date'],axis = 1).reset_index(drop = True)\n",
    "        y_test = Y[label] [ : math.ceil(len(X)*test_ratio)].reset_index(drop = True)\n",
    "        \n",
    "        X_train_cluster = X_train[X_train.long_cluster==cluster]\n",
    "        y_train_cluster = y_train[X_train.long_cluster==cluster]\n",
    "        \n",
    "        \n",
    "        X_test_cluster =  X_test[X_test.long_cluster==cluster]\n",
    "        y_test_cluster = y_test[X_test.long_cluster==cluster]\n",
    "\n",
    "        #X_train, y_train = SMOTE(random_state=42).fit_resample(X_train, y_train)\n",
    "        #ros = RandomOverSampler(random_state = 40)\n",
    "\n",
    "        #X_train, y_train = ros.fit_resample(X_train, y_train)\n",
    "\n",
    "        clf=svm.SVC(kernel='linear',C=2,gamma='auto')\n",
    "\n",
    "        clf.fit(X_train_cluster,y_train_cluster)\n",
    "        y_test_predp = clf.predict(X_test_cluster)\n",
    "\n",
    "        precision, recall, f1, _ = score(y_test_cluster, y_test_predp)\n",
    "        print ( \"precision(-1, 0, 1):\" ,precision )\n",
    "        print ( \"recall score(-1, 0, 1):\" ,recall )\n",
    "\n",
    "#         if isFirst :\n",
    "#             predict_['date'] = testp.date\n",
    "#             isFirst = False\n",
    "#         predict_[label] = y_test_predp"
   ]
  },
  {
   "cell_type": "code",
   "execution_count": null,
   "id": "ef2a1293",
   "metadata": {
    "id": "ef2a1293"
   },
   "outputs": [],
   "source": []
  },
  {
   "cell_type": "code",
   "execution_count": null,
   "id": "3bf3d0bd",
   "metadata": {
    "id": "3bf3d0bd"
   },
   "outputs": [],
   "source": []
  },
  {
   "cell_type": "markdown",
   "id": "6dcddf40",
   "metadata": {
    "id": "6dcddf40"
   },
   "source": [
    "def get_cnn_series_data( df, period) -> list:\n",
    "    list_ = []\n",
    "    for i in range(len(df)-period+1):\n",
    "        list_.append(df[i:i+period].values)\n",
    "        \n",
    "    return np.array(list_)\n",
    "\n",
    "def cnn_training(allData, allLabel, day , splitsize, epoches = 100) :\n",
    "\n",
    "    week_list = allData\n",
    "    week_label = allLabel\n",
    "    # 定義梯度下降批量\n",
    "    batch_size = 32\n",
    "    # 定義分類數量\n",
    "    num_classes = 3\n",
    "    # 定義訓練週期\n",
    "    epochs = epoches\n",
    "\n",
    "    # 定義圖像寬、高\n",
    "    img_rows, img_cols = day, 17\n",
    "    input_shape = ( img_rows, img_cols)\n",
    "\n",
    "    # 載入 MNIST 訓練資料\n",
    "    split_ratio = splitsize\n",
    "    x_train = week_list[ math.ceil(len(week_list)*split_ratio) :]\n",
    "    x_test = week_list[ : math.ceil(len(week_list)*split_ratio) ]\n",
    "\n",
    "    y_train = week_label[ math.ceil(len(week_label)*split_ratio) :]\n",
    "    y_test = week_label[ : math.ceil(len(week_label)*split_ratio) ]\n",
    "\n",
    "    x_train = x_train.reshape(x_train.shape[0] , img_rows, img_cols,1)\n",
    "    x_test = x_test.reshape(x_test.shape[0], img_rows, img_cols ,1)\n",
    "\n",
    "    # x_train  = torch.from_numpy(x_train)\n",
    "    # x_test  = torch.from_numpy(x_test)\n",
    "\n",
    "    # y_train = torch.from_numpy(y_train)\n",
    "    # y_test = torch.from_numpy(y_test)\n",
    "\n",
    "    input_shape = (img_rows, img_cols,1 )\n",
    "\n",
    "    # 保留原始資料，供 cross tab function 使用\n",
    "    y_test_org = y_test\n",
    "\n",
    "\n",
    "    # y 值轉成 one-hot encoding\n",
    "    y_train = np_utils.to_categorical(y_train, num_classes)\n",
    "    y_test = np_utils.to_categorical(y_test, num_classes)\n",
    "\n",
    "    # 建立簡單的線性執行的模型\n",
    "    model = Sequential()\n",
    "    # 建立卷積層，filter=32,即 output space 的深度, Kernal Size: 3x3, activation function 採用 relu\n",
    "    model.add(Conv2D(16, kernel_size=(3,10),\n",
    "                    activation='relu',\n",
    "                    input_shape=input_shape))\n",
    "    #model.add(BatchNormalization())\n",
    "    model.add(GaussianNoise(0.5))\n",
    "    # 建立卷積層，filter=64,即 output size, Kernal Size: 3x3, activation function 採用 relu\n",
    "    model.add(Conv2D(32, (3,2), activation='relu'))\n",
    "    # 建立池化層，池化大小=2x2，取最大值\n",
    "    model.add(MaxPooling2D(pool_size=(3, 5)))\n",
    "    # Dropout層隨機斷開輸入神經元，用於防止過度擬合，斷開比例:0.25\n",
    "    model.add(Dropout(0.25))\n",
    "    # Flatten層把多維的輸入一維化，常用在從卷積層到全連接層的過渡。\n",
    "    model.add(Flatten( name ='flatten'))\n",
    "    # 全連接層: 128個output\n",
    "    model.add(Dense(batch_size, 'sigmoid', name ='Dense'))\n",
    "    # 使用 softmax activation function，將結果分類\n",
    "    model.add(Dense(num_classes, activation='softmax' ))\n",
    "\n",
    "    # 編譯: 選擇損失函數、優化方法及成效衡量方式\n",
    "    model.compile(loss=keras.losses.categorical_crossentropy,\n",
    "                optimizer='adam',\n",
    "                metrics=['accuracy'])\n",
    "\n",
    "    # 進行訓練, 訓練過程會存在 train_history 變數中\n",
    "    train_history = model.fit(x_train, y_train,\n",
    "            batch_size=batch_size,\n",
    "            epochs=epochs,\n",
    "            verbose=1,\n",
    "            validation_data=(x_test, y_test))\n",
    "\n",
    "    # 顯示損失函數、訓練成果(分數)\n",
    "    score = model.evaluate(x_test, y_test, verbose=0)\n",
    "    print('Test loss:', score)\n",
    "    print('Test accuracy:', score)\n",
    "    return model\n",
    "\n",
    "day = 10\n",
    "X_cnn = get_cnn_series_data(X.drop(['date'],axis=1),day)\n",
    "\n",
    "cnn_training(X_cnn , short_label[:len(X_cnn)], day , 0.3 , 100)\n",
    "\n",
    "\n",
    "X_cnn.shape"
   ]
  },
  {
   "cell_type": "code",
   "execution_count": null,
   "id": "df5cfbfd",
   "metadata": {
    "id": "df5cfbfd"
   },
   "outputs": [],
   "source": []
  }
 ],
 "metadata": {
  "colab": {
   "collapsed_sections": [],
   "name": "model.ipynb",
   "provenance": []
  },
  "kernelspec": {
   "display_name": "Python 3 (ipykernel)",
   "language": "python",
   "name": "python3"
  },
  "language_info": {
   "codemirror_mode": {
    "name": "ipython",
    "version": 3
   },
   "file_extension": ".py",
   "mimetype": "text/x-python",
   "name": "python",
   "nbconvert_exporter": "python",
   "pygments_lexer": "ipython3",
   "version": "3.9.7"
  }
 },
 "nbformat": 4,
 "nbformat_minor": 5
}
