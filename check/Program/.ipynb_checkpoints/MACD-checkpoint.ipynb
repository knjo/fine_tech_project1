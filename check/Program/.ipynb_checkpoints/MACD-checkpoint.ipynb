{
 "cells": [
  {
   "cell_type": "code",
   "execution_count": 3,
   "id": "cb128dab-89b0-4dd1-a1fa-5182fe098509",
   "metadata": {},
   "outputs": [
    {
     "ename": "ModuleNotFoundError",
     "evalue": "No module named 'talib'",
     "output_type": "error",
     "traceback": [
      "\u001b[1;31m---------------------------------------------------------------------------\u001b[0m",
      "\u001b[1;31mModuleNotFoundError\u001b[0m                       Traceback (most recent call last)",
      "\u001b[1;32m~\\AppData\\Local\\Temp/ipykernel_48904/7444101.py\u001b[0m in \u001b[0;36m<module>\u001b[1;34m\u001b[0m\n\u001b[0;32m      1\u001b[0m \u001b[1;31m# %load MACD.py\u001b[0m\u001b[1;33m\u001b[0m\u001b[1;33m\u001b[0m\u001b[0m\n\u001b[0;32m      2\u001b[0m \u001b[1;32mimport\u001b[0m \u001b[0mpandas\u001b[0m \u001b[1;32mas\u001b[0m \u001b[0mpd\u001b[0m\u001b[1;33m\u001b[0m\u001b[1;33m\u001b[0m\u001b[0m\n\u001b[1;32m----> 3\u001b[1;33m \u001b[1;32mimport\u001b[0m \u001b[0mtalib\u001b[0m\u001b[1;33m\u001b[0m\u001b[1;33m\u001b[0m\u001b[0m\n\u001b[0m\u001b[0;32m      4\u001b[0m \u001b[1;33m\u001b[0m\u001b[0m\n\u001b[0;32m      5\u001b[0m \u001b[1;31m# MACD label\u001b[0m\u001b[1;33m\u001b[0m\u001b[1;33m\u001b[0m\u001b[0m\n",
      "\u001b[1;31mModuleNotFoundError\u001b[0m: No module named 'talib'"
     ]
    }
   ],
   "source": [
    "# %load MACD.py\n",
    "import pandas as pd\n",
    "import talib\n",
    "\n",
    "# MACD label\n",
    "data=pd.read_csv('./data/TXF.csv')\n",
    "data['MACD'],data['MACD signal'],data['MACD hist']=talib.MACD(data['close'], fastperiod=12, slowperiod=26, signalperiod=9)\n",
    "sig_macd = pd.DataFrame() \n",
    "for i in range(1,len(data)):\n",
    "    if data['MACD hist'].iloc[i-1] < 0 and data['MACD hist'].iloc[i] > 0 :\n",
    "        label_macd=pd.DataFrame({'date':[data['date'].iloc[i]],'MACD_label':['1']})\n",
    "    elif data['MACD hist'].iloc[i-1] > 0 and data['MACD hist'].iloc[i] < 0  :\n",
    "        label_macd=pd.DataFrame({'date':[data['date'].iloc[i]],'MACD_label':['-1']})\n",
    "    else:\n",
    "        label_macd=pd.DataFrame({'date':[data['date'].iloc[i]],'MACD_label':['0']})\n",
    "    sig_macd=sig_macd.append(label_macd,ignore_index=True)\n",
    "data=pd.merge(data,sig_macd, how=\"outer\")\n",
    "data_macd=data[['date','MACD_label']]\n",
    "data_macd.to_csv('./result/TXF_MACD_label.csv')"
   ]
  },
  {
   "cell_type": "code",
   "execution_count": null,
   "id": "978da897-f383-4208-ac7f-6665a0e725e8",
   "metadata": {},
   "outputs": [],
   "source": []
  }
 ],
 "metadata": {
  "kernelspec": {
   "display_name": "Python 3 (ipykernel)",
   "language": "python",
   "name": "python3"
  },
  "language_info": {
   "codemirror_mode": {
    "name": "ipython",
    "version": 3
   },
   "file_extension": ".py",
   "mimetype": "text/x-python",
   "name": "python",
   "nbconvert_exporter": "python",
   "pygments_lexer": "ipython3",
   "version": "3.9.7"
  }
 },
 "nbformat": 4,
 "nbformat_minor": 5
}
