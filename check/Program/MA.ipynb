{
 "cells": [
  {
   "cell_type": "code",
   "execution_count": 1,
   "id": "4297fbb0-ca2e-4589-a69e-e26fa2382237",
   "metadata": {},
   "outputs": [
    {
     "ename": "ModuleNotFoundError",
     "evalue": "No module named 'talib'",
     "output_type": "error",
     "traceback": [
      "\u001b[1;31m---------------------------------------------------------------------------\u001b[0m",
      "\u001b[1;31mModuleNotFoundError\u001b[0m                       Traceback (most recent call last)",
      "\u001b[1;32m~\\AppData\\Local\\Temp/ipykernel_48564/458538665.py\u001b[0m in \u001b[0;36m<module>\u001b[1;34m\u001b[0m\n\u001b[0;32m      1\u001b[0m \u001b[1;31m# %load MA.py\u001b[0m\u001b[1;33m\u001b[0m\u001b[1;33m\u001b[0m\u001b[0m\n\u001b[0;32m      2\u001b[0m \u001b[1;32mimport\u001b[0m \u001b[0mpandas\u001b[0m \u001b[1;32mas\u001b[0m \u001b[0mpd\u001b[0m\u001b[1;33m\u001b[0m\u001b[1;33m\u001b[0m\u001b[0m\n\u001b[1;32m----> 3\u001b[1;33m \u001b[1;32mimport\u001b[0m \u001b[0mtalib\u001b[0m\u001b[1;33m\u001b[0m\u001b[1;33m\u001b[0m\u001b[0m\n\u001b[0m\u001b[0;32m      4\u001b[0m \u001b[1;33m\u001b[0m\u001b[0m\n\u001b[0;32m      5\u001b[0m \u001b[0mdata\u001b[0m\u001b[1;33m=\u001b[0m\u001b[0mpd\u001b[0m\u001b[1;33m.\u001b[0m\u001b[0mread_csv\u001b[0m\u001b[1;33m(\u001b[0m\u001b[1;34m'./data/TXF.csv'\u001b[0m\u001b[1;33m)\u001b[0m\u001b[1;33m\u001b[0m\u001b[1;33m\u001b[0m\u001b[0m\n",
      "\u001b[1;31mModuleNotFoundError\u001b[0m: No module named 'talib'"
     ]
    }
   ],
   "source": [
    "# %load MA.py\n",
    "import pandas as pd\n",
    "import talib\n",
    "\n",
    "data=pd.read_csv('./data/TXF.csv')\n",
    "data['ma5'] = talib.SMA(data['close'], timeperiod=5)\n",
    "data['ma10'] = talib.SMA(data['close'], timeperiod=10)\n",
    "data['ma20'] = talib.SMA(data['close'], timeperiod=20)\n",
    "data['ma60'] = talib.SMA(data['close'], timeperiod=60)\n",
    "data['ma120']= talib.SMA(data['close'], timeperiod=120)\n",
    "\n",
    "data['ma5-ma10']=data['ma5'] -data['ma10']\n",
    "data['ma10-ma20']=data['ma10'] -data['ma20']\n",
    "data['ma20-ma60']=data['ma20'] -data['ma60']\n",
    "data['ma60-ma120']=data['ma60'] -data['ma120']\n",
    "# ma5&ma10\n",
    "sig1 = pd.DataFrame() \n",
    "for i in range(1,len(data)):\n",
    "    # 5MA往上穿越10MA\n",
    "    if data['ma5-ma10'].iloc[i-1] < 0 and data['ma5-ma10'].iloc[i] > 0 :\n",
    "        label=pd.DataFrame({'date':[data['date'].iloc[i]],'ma5&ma10':['1']})\n",
    "    # 5MA往下穿越10MA\n",
    "    elif data['ma5-ma10'].iloc[i-1] > 0 and data['ma5-ma10'].iloc[i] < 0  :\n",
    "        label=pd.DataFrame({'date':[data['date'].iloc[i]],'ma5&ma10':['-1']})  \n",
    "    else:\n",
    "        label=pd.DataFrame({'date':[data['date'].iloc[i]],'ma5&ma10':['0']})\n",
    "    sig1=sig1.append(label,ignore_index=True)\n",
    "data=pd.merge(data,sig1, how=\"outer\")\n",
    "# ma10&ma20\n",
    "sig2 = pd.DataFrame() \n",
    "for i in range(1,len(data)):\n",
    "    # 10MA往上穿越20MA\n",
    "    if data['ma10-ma20'].iloc[i-1] < 0 and data['ma10-ma20'].iloc[i] > 0 :\n",
    "        label2=pd.DataFrame({'date':[data['date'].iloc[i]],'ma10&ma20':['1']})\n",
    "    # 10MA往下穿越20MA\n",
    "    elif data['ma10-ma20'].iloc[i-1] > 0 and data['ma10-ma20'].iloc[i] < 0  :\n",
    "        label2=pd.DataFrame({'date':[data['date'].iloc[i]],'ma10&ma20':['-1']})\n",
    "    else:\n",
    "        label2=pd.DataFrame({'date':[data['date'].iloc[i]],'ma10&ma20':['0']})\n",
    "    sig2=sig2.append(label2,ignore_index=True)\n",
    "data=pd.merge(data,sig2, how=\"outer\")\n",
    "#ma20&ma60\n",
    "sig3 = pd.DataFrame() \n",
    "for i in range(1,len(data)):\n",
    "    # 20MA往上穿越60MA\n",
    "    if data['ma20-ma60'].iloc[i-1] < 0 and data['ma20-ma60'].iloc[i] > 0 :\n",
    "        label3=pd.DataFrame({'date':[data['date'].iloc[i]],'ma20&ma60':['1']})\n",
    "    # 20MA往下穿越60MA\n",
    "    elif data['ma20-ma60'].iloc[i-1] > 0 and data['ma20-ma60'].iloc[i] < 0  :\n",
    "        label3=pd.DataFrame({'date':[data['date'].iloc[i]],'ma20&ma60':['-1']})\n",
    "    else:\n",
    "        label3=pd.DataFrame({'date':[data['date'].iloc[i]],'ma20&ma60':['0']})\n",
    "    sig3=sig3.append(label3,ignore_index=True)\n",
    "data=pd.merge(data,sig3, how=\"outer\")\n",
    "#ma60&ma120\n",
    "sig4 = pd.DataFrame() \n",
    "for i in range(1,len(data)):\n",
    "    # 60MA往上穿越120MA\n",
    "    if data['ma60-ma120'].iloc[i-1] < 0 and data['ma60-ma120'].iloc[i] > 0 :\n",
    "        label4=pd.DataFrame({'date':[data['date'].iloc[i]],'ma60&ma120':['1']})\n",
    "    # 60MA往下穿越120MA\n",
    "    elif data['ma60-ma120'].iloc[i-1] > 0 and data['ma60-ma120'].iloc[i] < 0  :\n",
    "        label4=pd.DataFrame({'date':[data['date'].iloc[i]],'ma60&ma120':['-1']})\n",
    "    else:\n",
    "        label4=pd.DataFrame({'date':[data['date'].iloc[i]],'ma60&ma120':['0']})\n",
    "    sig4=sig4.append(label4,ignore_index=True)\n",
    "data=pd.merge(data,sig4, how=\"outer\")\n",
    "\n",
    "data=data.drop(['ma5-ma10','ma10-ma20','ma20-ma60','ma60-ma120'],axis=1)\n",
    "data_MA=data[['date','ma5&ma10','ma10&ma20','ma20&ma60','ma60&ma120']]\n",
    "data_MA.to_csv('feature/TXF_MA_label.csv')\n"
   ]
  },
  {
   "cell_type": "code",
   "execution_count": null,
   "id": "20bcc64a",
   "metadata": {},
   "outputs": [],
   "source": []
  }
 ],
 "metadata": {
  "kernelspec": {
   "display_name": "Python 3 (ipykernel)",
   "language": "python",
   "name": "python3"
  },
  "language_info": {
   "codemirror_mode": {
    "name": "ipython",
    "version": 3
   },
   "file_extension": ".py",
   "mimetype": "text/x-python",
   "name": "python",
   "nbconvert_exporter": "python",
   "pygments_lexer": "ipython3",
   "version": "3.9.7"
  }
 },
 "nbformat": 4,
 "nbformat_minor": 5
}
