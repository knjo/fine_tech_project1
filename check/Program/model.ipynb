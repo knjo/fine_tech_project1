{
 "cells": [
  {
   "cell_type": "code",
   "execution_count": 1,
   "id": "e8fd48e8",
   "metadata": {
    "id": "e8fd48e8"
   },
   "outputs": [],
   "source": [
    "import requests\n",
    "from io import StringIO\n",
    "import pandas as pd\n",
    "import numpy as np\n",
    "from bs4 import BeautifulSoup\n",
    "import datetime\n",
    "import calendar\n",
    "from sklearn.preprocessing import normalize\n",
    "import time\n",
    "import math\n",
    "import feature_handler as fn\n",
    "from keract import get_activations, display_activations"
   ]
  },
  {
   "cell_type": "code",
   "execution_count": 2,
   "id": "ea371a19",
   "metadata": {
    "id": "ea371a19"
   },
   "outputs": [],
   "source": [
    "## read all data\n",
    "path = \"./data/\" \n",
    "TAIEX_df = pd.read_csv(path+'TXF.csv')\n",
    "columns = ['Date','Open','High','Low','Close','Volume'] \n",
    "TAIEX_df.columns = columns\n",
    "df = TAIEX_df[::-1].reset_index(drop=True)\n",
    "price_df = df.drop(['Date', 'Volume'],axis=1)"
   ]
  },
  {
   "cell_type": "markdown",
   "id": "g9dAwA54Ocl2",
   "metadata": {
    "id": "g9dAwA54Ocl2"
   },
   "source": [
    "## CNN training : \n",
    "- 取開高收低的sliding windows，並進行CNN的訓練\n",
    "- 模型使用 2D CNN 中間包含`flatten`與`Dense`層\n",
    "- 從`Dense`層取出輸出，將輸出進行K-means得分群\n",
    "- 分別取長天期(30天)與短天期(8天)，從而得到兩種價格分群資訊"
   ]
  },
  {
   "cell_type": "code",
   "execution_count": 44,
   "id": "db6bb4ac",
   "metadata": {
    "id": "db6bb4ac",
    "outputId": "95025ce0-2009-490e-a229-d324b1355f97"
   },
   "outputs": [
    {
     "name": "stdout",
     "output_type": "stream",
     "text": [
      "(2903, 30, 4)\n",
      "count:  0    1115\n",
      "-1     998\n",
      " 1     790\n",
      "Name: triple_barrier_signal, dtype: int64\n"
     ]
    }
   ],
   "source": [
    "day = 30\n",
    "long_list = fn.get_series_data(price_df , day , False)\n",
    "print(long_list.shape)\n",
    "\n",
    "ret = fn.triple_barrier(TAIEX_df.Close, 1.04 ,0.97, 20)\n",
    "long_label = ret.triple_barrier_signal[day-1:len(ret)]\n",
    "print('count:' ,long_label.value_counts())\n",
    "long_label = long_label[::-1].reset_index(drop=True)"
   ]
  },
  {
   "cell_type": "code",
   "execution_count": 45,
   "id": "7a8257b5",
   "metadata": {
    "id": "7a8257b5",
    "outputId": "b696642a-6a59-4e26-bd3a-8561b0adbae6"
   },
   "outputs": [
    {
     "name": "stdout",
     "output_type": "stream",
     "text": [
      "Epoch 1/40\n",
      "64/64 [==============================] - 1s 11ms/step - loss: 1.0041 - accuracy: 0.4882 - val_loss: 1.1577 - val_accuracy: 0.3651\n",
      "Epoch 2/40\n",
      "64/64 [==============================] - 1s 10ms/step - loss: 0.9630 - accuracy: 0.5098 - val_loss: 1.1883 - val_accuracy: 0.3054\n",
      "Epoch 3/40\n",
      "64/64 [==============================] - 1s 10ms/step - loss: 0.9518 - accuracy: 0.5281 - val_loss: 1.2521 - val_accuracy: 0.3272\n",
      "Epoch 4/40\n",
      "64/64 [==============================] - 1s 10ms/step - loss: 0.9358 - accuracy: 0.5226 - val_loss: 1.3433 - val_accuracy: 0.3284\n",
      "Epoch 5/40\n",
      "64/64 [==============================] - 1s 9ms/step - loss: 0.9247 - accuracy: 0.5394 - val_loss: 1.2614 - val_accuracy: 0.3456\n",
      "Epoch 6/40\n",
      "64/64 [==============================] - 1s 9ms/step - loss: 0.9137 - accuracy: 0.5492 - val_loss: 1.3145 - val_accuracy: 0.3410\n",
      "Epoch 7/40\n",
      "64/64 [==============================] - 1s 10ms/step - loss: 0.8960 - accuracy: 0.5699 - val_loss: 1.2755 - val_accuracy: 0.3571\n",
      "Epoch 8/40\n",
      "64/64 [==============================] - 1s 9ms/step - loss: 0.8940 - accuracy: 0.5655 - val_loss: 1.3585 - val_accuracy: 0.3605\n",
      "Epoch 9/40\n",
      "64/64 [==============================] - 1s 9ms/step - loss: 0.8695 - accuracy: 0.6038 - val_loss: 1.2787 - val_accuracy: 0.3708\n",
      "Epoch 10/40\n",
      "64/64 [==============================] - 1s 8ms/step - loss: 0.8683 - accuracy: 0.5861 - val_loss: 1.4072 - val_accuracy: 0.3410\n",
      "Epoch 11/40\n",
      "64/64 [==============================] - 1s 10ms/step - loss: 0.8607 - accuracy: 0.5999 - val_loss: 1.3730 - val_accuracy: 0.3662\n",
      "Epoch 12/40\n",
      "64/64 [==============================] - 1s 10ms/step - loss: 0.8458 - accuracy: 0.6156 - val_loss: 1.3782 - val_accuracy: 0.3731\n",
      "Epoch 13/40\n",
      "64/64 [==============================] - 1s 10ms/step - loss: 0.8334 - accuracy: 0.6156 - val_loss: 1.2866 - val_accuracy: 0.3835\n",
      "Epoch 14/40\n",
      "64/64 [==============================] - 1s 11ms/step - loss: 0.8307 - accuracy: 0.6235 - val_loss: 1.4232 - val_accuracy: 0.3777\n",
      "Epoch 15/40\n",
      "64/64 [==============================] - 1s 10ms/step - loss: 0.8179 - accuracy: 0.6211 - val_loss: 1.3749 - val_accuracy: 0.3662\n",
      "Epoch 16/40\n",
      "64/64 [==============================] - 1s 11ms/step - loss: 0.8044 - accuracy: 0.6368 - val_loss: 1.3239 - val_accuracy: 0.3789\n",
      "Epoch 17/40\n",
      "64/64 [==============================] - 1s 10ms/step - loss: 0.8002 - accuracy: 0.6486 - val_loss: 1.4161 - val_accuracy: 0.3571\n",
      "Epoch 18/40\n",
      "64/64 [==============================] - 1s 9ms/step - loss: 0.7901 - accuracy: 0.6398 - val_loss: 1.4029 - val_accuracy: 0.3869\n",
      "Epoch 19/40\n",
      "64/64 [==============================] - 1s 10ms/step - loss: 0.7858 - accuracy: 0.6471 - val_loss: 1.2960 - val_accuracy: 0.3800\n",
      "Epoch 20/40\n",
      "64/64 [==============================] - 1s 10ms/step - loss: 0.7631 - accuracy: 0.6609 - val_loss: 1.3747 - val_accuracy: 0.3708\n",
      "Epoch 21/40\n",
      "64/64 [==============================] - 1s 10ms/step - loss: 0.7371 - accuracy: 0.6781 - val_loss: 1.4341 - val_accuracy: 0.3490\n",
      "Epoch 22/40\n",
      "64/64 [==============================] - 1s 10ms/step - loss: 0.7452 - accuracy: 0.6777 - val_loss: 1.4347 - val_accuracy: 0.3869\n",
      "Epoch 23/40\n",
      "64/64 [==============================] - 1s 10ms/step - loss: 0.7231 - accuracy: 0.6944 - val_loss: 1.5698 - val_accuracy: 0.3662\n",
      "Epoch 24/40\n",
      "64/64 [==============================] - 1s 10ms/step - loss: 0.7213 - accuracy: 0.6988 - val_loss: 1.5145 - val_accuracy: 0.3674\n",
      "Epoch 25/40\n",
      "64/64 [==============================] - 1s 12ms/step - loss: 0.7181 - accuracy: 0.6914 - val_loss: 1.4478 - val_accuracy: 0.3720\n",
      "Epoch 26/40\n",
      "64/64 [==============================] - 1s 10ms/step - loss: 0.6931 - accuracy: 0.7013 - val_loss: 1.5659 - val_accuracy: 0.3594\n",
      "Epoch 27/40\n",
      "64/64 [==============================] - 1s 10ms/step - loss: 0.6941 - accuracy: 0.6988 - val_loss: 1.4638 - val_accuracy: 0.3398\n",
      "Epoch 28/40\n",
      "64/64 [==============================] - 1s 10ms/step - loss: 0.6856 - accuracy: 0.7180 - val_loss: 1.4575 - val_accuracy: 0.3789\n",
      "Epoch 29/40\n",
      "64/64 [==============================] - 1s 10ms/step - loss: 0.6645 - accuracy: 0.7077 - val_loss: 1.6129 - val_accuracy: 0.3605\n",
      "Epoch 30/40\n",
      "64/64 [==============================] - 1s 10ms/step - loss: 0.6675 - accuracy: 0.7160 - val_loss: 1.5402 - val_accuracy: 0.3731\n",
      "Epoch 31/40\n",
      "64/64 [==============================] - 1s 10ms/step - loss: 0.6652 - accuracy: 0.7219 - val_loss: 1.6465 - val_accuracy: 0.3628\n",
      "Epoch 32/40\n",
      "64/64 [==============================] - 1s 10ms/step - loss: 0.6329 - accuracy: 0.7372 - val_loss: 1.5389 - val_accuracy: 0.3812\n",
      "Epoch 33/40\n",
      "64/64 [==============================] - 1s 10ms/step - loss: 0.6185 - accuracy: 0.7510 - val_loss: 1.5669 - val_accuracy: 0.3467\n",
      "Epoch 34/40\n",
      "64/64 [==============================] - 1s 10ms/step - loss: 0.6147 - accuracy: 0.7564 - val_loss: 1.5067 - val_accuracy: 0.3708\n",
      "Epoch 35/40\n",
      "64/64 [==============================] - 1s 10ms/step - loss: 0.6061 - accuracy: 0.7515 - val_loss: 1.5591 - val_accuracy: 0.3559\n",
      "Epoch 36/40\n",
      "64/64 [==============================] - 1s 9ms/step - loss: 0.6094 - accuracy: 0.7431 - val_loss: 1.5424 - val_accuracy: 0.3628\n",
      "Epoch 37/40\n",
      "64/64 [==============================] - 1s 10ms/step - loss: 0.5915 - accuracy: 0.7549 - val_loss: 1.6008 - val_accuracy: 0.3674\n",
      "Epoch 38/40\n",
      "64/64 [==============================] - 1s 10ms/step - loss: 0.5761 - accuracy: 0.7672 - val_loss: 1.6066 - val_accuracy: 0.3662\n",
      "Epoch 39/40\n",
      "64/64 [==============================] - 1s 10ms/step - loss: 0.5695 - accuracy: 0.7746 - val_loss: 1.5945 - val_accuracy: 0.3548\n",
      "Epoch 40/40\n",
      "64/64 [==============================] - 1s 10ms/step - loss: 0.5623 - accuracy: 0.7835 - val_loss: 1.6083 - val_accuracy: 0.3720\n",
      "Test loss: [1.6082698106765747, 0.3719862103462219]\n",
      "Test accuracy: [1.6082698106765747, 0.3719862103462219]\n"
     ]
    }
   ],
   "source": [
    "## CNN Training\n",
    "model = fn.cnn_training(long_list,long_label , day , 0.3 , 40)\n",
    "\n",
    "## 取得CNN 最後一層的output\n",
    "flatten_list = []\n",
    "for periodData in long_list :\n",
    "    keract_inputs = periodData.reshape(1 , long_list.shape[1], long_list.shape[2],1)\n",
    "    activations = get_activations(model, keract_inputs)\n",
    "    flatten_list.append(activations['flatten'])\n",
    "\n",
    "## 分群\n",
    "long_cluster_label = pd.Series(fn.get_cluster(flatten_list, 3))"
   ]
  },
  {
   "cell_type": "code",
   "execution_count": 46,
   "id": "24c09ffb",
   "metadata": {
    "id": "24c09ffb",
    "outputId": "8d8c03fd-5abe-444f-8653-5144a7598672"
   },
   "outputs": [
    {
     "data": {
      "text/plain": [
       "0    2316\n",
       "2     526\n",
       "1      61\n",
       "dtype: int64"
      ]
     },
     "execution_count": 46,
     "metadata": {},
     "output_type": "execute_result"
    }
   ],
   "source": [
    "long_cluster_label.value_counts()"
   ]
  },
  {
   "cell_type": "code",
   "execution_count": 47,
   "id": "2f87030c",
   "metadata": {
    "id": "2f87030c",
    "outputId": "b8ef1623-1335-4546-e1d4-f565319a9a49"
   },
   "outputs": [
    {
     "name": "stdout",
     "output_type": "stream",
     "text": [
      "(2925, 8, 4)\n",
      "count:  1    1275\n",
      "-1    1073\n",
      " 0     577\n",
      "Name: triple_barrier_signal, dtype: int64\n"
     ]
    }
   ],
   "source": [
    "## 短天期，過程與上面相同\n",
    "day = 8\n",
    "short_list = fn.get_series_data(price_df , day , True)\n",
    "print(short_list.shape)\n",
    "\n",
    "##　短天期使用短label\n",
    "ret = fn.triple_barrier(TAIEX_df.Close, 1.01 ,0.99, 5)\n",
    "short_label = ret.triple_barrier_signal[day-1:len(ret)]\n",
    "print('count:' ,short_label.value_counts())\n",
    "short_label = short_label[::-1].reset_index(drop=True)"
   ]
  },
  {
   "cell_type": "code",
   "execution_count": 48,
   "id": "533081d8",
   "metadata": {
    "id": "533081d8",
    "outputId": "6ecd82dc-e4ee-4361-fbcd-009f742929ef"
   },
   "outputs": [
    {
     "name": "stdout",
     "output_type": "stream",
     "text": [
      "Epoch 1/20\n",
      "64/64 [==============================] - 1s 7ms/step - loss: 1.0646 - accuracy: 0.3986 - val_loss: 1.0838 - val_accuracy: 0.3497\n",
      "Epoch 2/20\n",
      "64/64 [==============================] - 0s 6ms/step - loss: 1.0496 - accuracy: 0.4162 - val_loss: 1.0660 - val_accuracy: 0.3497\n",
      "Epoch 3/20\n",
      "64/64 [==============================] - 0s 5ms/step - loss: 1.0454 - accuracy: 0.4275 - val_loss: 1.0811 - val_accuracy: 0.3497\n",
      "Epoch 4/20\n",
      "64/64 [==============================] - 0s 5ms/step - loss: 1.0407 - accuracy: 0.4231 - val_loss: 1.0397 - val_accuracy: 0.4932\n",
      "Epoch 5/20\n",
      "64/64 [==============================] - 0s 5ms/step - loss: 1.0349 - accuracy: 0.4201 - val_loss: 1.0557 - val_accuracy: 0.3576\n",
      "Epoch 6/20\n",
      "64/64 [==============================] - 0s 5ms/step - loss: 1.0373 - accuracy: 0.4353 - val_loss: 1.0402 - val_accuracy: 0.4055\n",
      "Epoch 7/20\n",
      "64/64 [==============================] - 0s 5ms/step - loss: 1.0297 - accuracy: 0.4485 - val_loss: 1.0320 - val_accuracy: 0.4191\n",
      "Epoch 8/20\n",
      "64/64 [==============================] - 0s 5ms/step - loss: 1.0326 - accuracy: 0.4426 - val_loss: 1.0375 - val_accuracy: 0.4100\n",
      "Epoch 9/20\n",
      "64/64 [==============================] - 0s 5ms/step - loss: 1.0242 - accuracy: 0.4509 - val_loss: 1.0352 - val_accuracy: 0.3952\n",
      "Epoch 10/20\n",
      "64/64 [==============================] - 0s 5ms/step - loss: 1.0294 - accuracy: 0.4533 - val_loss: 1.0250 - val_accuracy: 0.4009\n",
      "Epoch 11/20\n",
      "64/64 [==============================] - 0s 5ms/step - loss: 1.0185 - accuracy: 0.4568 - val_loss: 1.0329 - val_accuracy: 0.3929\n",
      "Epoch 12/20\n",
      "64/64 [==============================] - 0s 6ms/step - loss: 1.0154 - accuracy: 0.4651 - val_loss: 1.0340 - val_accuracy: 0.4009\n",
      "Epoch 13/20\n",
      "64/64 [==============================] - 0s 5ms/step - loss: 1.0131 - accuracy: 0.4626 - val_loss: 1.0622 - val_accuracy: 0.3542\n",
      "Epoch 14/20\n",
      "64/64 [==============================] - 0s 6ms/step - loss: 1.0160 - accuracy: 0.4533 - val_loss: 1.0442 - val_accuracy: 0.3838\n",
      "Epoch 15/20\n",
      "64/64 [==============================] - 0s 6ms/step - loss: 1.0076 - accuracy: 0.4680 - val_loss: 1.0330 - val_accuracy: 0.3941\n",
      "Epoch 16/20\n",
      "64/64 [==============================] - 0s 6ms/step - loss: 1.0035 - accuracy: 0.4670 - val_loss: 1.0488 - val_accuracy: 0.3850\n",
      "Epoch 17/20\n",
      "64/64 [==============================] - 0s 5ms/step - loss: 1.0089 - accuracy: 0.4685 - val_loss: 1.0304 - val_accuracy: 0.4089\n",
      "Epoch 18/20\n",
      "64/64 [==============================] - 0s 5ms/step - loss: 1.0032 - accuracy: 0.4822 - val_loss: 1.0538 - val_accuracy: 0.3964\n",
      "Epoch 19/20\n",
      "64/64 [==============================] - 0s 5ms/step - loss: 0.9977 - accuracy: 0.4797 - val_loss: 1.0375 - val_accuracy: 0.4157\n",
      "Epoch 20/20\n",
      "64/64 [==============================] - 0s 6ms/step - loss: 0.9952 - accuracy: 0.4895 - val_loss: 1.0652 - val_accuracy: 0.3952\n",
      "Test loss: [1.0652450323104858, 0.3952164053916931]\n",
      "Test accuracy: [1.0652450323104858, 0.3952164053916931]\n",
      "2925 1    1072\n",
      "5     667\n",
      "2     382\n",
      "3     337\n",
      "4     292\n",
      "0     175\n",
      "dtype: int64\n"
     ]
    }
   ],
   "source": [
    "## CNN Training\n",
    "model = fn.cnn_training(short_list,short_label , day , 0.3 , 20)\n",
    "\n",
    "## 取得CNN 最後一層的output\n",
    "flatten_list = []\n",
    "for periodData in short_list :\n",
    "    keract_inputs = periodData.reshape(1 , short_list.shape[1], short_list.shape[2],1)\n",
    "    activations = get_activations(model, keract_inputs)\n",
    "    flatten_list.append(activations['flatten'])\n",
    "\n",
    "short_cluster_label = pd.Series(fn.get_cluster(flatten_list, 6))\n",
    "print (len(short_cluster_label), short_cluster_label.value_counts())"
   ]
  },
  {
   "cell_type": "code",
   "execution_count": 49,
   "id": "c6aca6c4",
   "metadata": {
    "id": "c6aca6c4"
   },
   "outputs": [],
   "source": [
    "## 讓短天期與長天期等長\n",
    "short_cluster_label = short_cluster_label[:len(long_cluster_label)]"
   ]
  },
  {
   "cell_type": "code",
   "execution_count": 50,
   "id": "83a02f81",
   "metadata": {
    "id": "83a02f81",
    "outputId": "696158d9-cd9c-4303-cd5b-a89656028e68"
   },
   "outputs": [
    {
     "data": {
      "text/plain": [
       "0       5\n",
       "1       5\n",
       "2       5\n",
       "3       4\n",
       "4       4\n",
       "       ..\n",
       "2898    5\n",
       "2899    2\n",
       "2900    2\n",
       "2901    1\n",
       "2902    1\n",
       "Length: 2903, dtype: int32"
      ]
     },
     "execution_count": 50,
     "metadata": {},
     "output_type": "execute_result"
    }
   ],
   "source": [
    "short_cluster_label"
   ]
  },
  {
   "cell_type": "code",
   "execution_count": 51,
   "id": "b15eeefd",
   "metadata": {
    "id": "b15eeefd"
   },
   "outputs": [],
   "source": [
    "# 讀取其他指標的資料\n",
    "\n",
    "TAIEX_Index = pd.read_csv(path+'TXF_Index.csv')\n",
    "X = TAIEX_Index[::-1].reset_index(drop=True)[:len(short_cluster_label)]"
   ]
  },
  {
   "cell_type": "code",
   "execution_count": 52,
   "id": "3e028b58",
   "metadata": {
    "id": "3e028b58"
   },
   "outputs": [],
   "source": [
    "Y = pd.DataFrame()\n",
    "Y['long'] = long_label\n",
    "Y['short'] = short_label[:len(long_label)]"
   ]
  },
  {
   "cell_type": "code",
   "execution_count": 53,
   "id": "ab71b39a",
   "metadata": {},
   "outputs": [
    {
     "data": {
      "text/plain": [
       "0       0\n",
       "1       0\n",
       "2       0\n",
       "3       0\n",
       "4       0\n",
       "       ..\n",
       "2898    1\n",
       "2899    1\n",
       "2900    1\n",
       "2901    1\n",
       "2902    1\n",
       "Name: triple_barrier_signal, Length: 2903, dtype: int64"
      ]
     },
     "execution_count": 53,
     "metadata": {},
     "output_type": "execute_result"
    }
   ],
   "source": [
    "long_label"
   ]
  },
  {
   "cell_type": "markdown",
   "id": "42cb3298",
   "metadata": {
    "id": "42cb3298"
   },
   "source": [
    "## training feature : train with all feature\n",
    "- several index and time serises price data\n",
    "---\n",
    "## XGBoost"
   ]
  },
  {
   "cell_type": "code",
   "execution_count": 54,
   "id": "295fe03b",
   "metadata": {
    "id": "295fe03b"
   },
   "outputs": [],
   "source": [
    "## 將天期分群加入指標 DataFrame\n",
    "X['long_cluster'] = long_cluster_label\n",
    "X['short_cluster'] = short_cluster_label"
   ]
  },
  {
   "cell_type": "code",
   "execution_count": 55,
   "id": "cb10d909",
   "metadata": {
    "id": "cb10d909"
   },
   "outputs": [],
   "source": [
    "from sklearn.metrics import confusion_matrix\n",
    "from sklearn.metrics import average_precision_score, precision_score, recall_score\n",
    "from xgboost import XGBClassifier\n",
    "from sklearn.metrics import precision_recall_fscore_support as score\n",
    "from sklearn import metrics\n",
    "from sklearn import svm"
   ]
  },
  {
   "cell_type": "code",
   "execution_count": 56,
   "id": "a0436693",
   "metadata": {
    "id": "a0436693",
    "outputId": "2eaced06-854f-45c2-fdf0-ccebe2b9baa4"
   },
   "outputs": [
    {
     "name": "stdout",
     "output_type": "stream",
     "text": [
      "label :  long\n",
      "test date start form  2021/11/30 to 2018/5/15\n"
     ]
    },
    {
     "name": "stderr",
     "output_type": "stream",
     "text": [
      "C:\\Users\\kevin\\anaconda3\\lib\\site-packages\\xgboost\\sklearn.py:1224: UserWarning: The use of label encoder in XGBClassifier is deprecated and will be removed in a future release. To remove this warning, do the following: 1) Pass option use_label_encoder=False when constructing XGBClassifier object; and 2) Encode your labels (y) as integers starting with 0, i.e. 0, 1, 2, ..., [num_class - 1].\n",
      "  warnings.warn(label_encoder_deprecation_msg, UserWarning)\n"
     ]
    },
    {
     "name": "stdout",
     "output_type": "stream",
     "text": [
      "precision(-1, 0, 1): [0.40909091 0.32913386 0.58333333]\n",
      "recall score(-1, 0, 1): [0.24573379 0.80076628 0.11041009]\n",
      "label :  short\n",
      "test date start form  2021/11/30 to 2018/5/15\n"
     ]
    },
    {
     "name": "stderr",
     "output_type": "stream",
     "text": [
      "C:\\Users\\kevin\\anaconda3\\lib\\site-packages\\xgboost\\sklearn.py:1224: UserWarning: The use of label encoder in XGBClassifier is deprecated and will be removed in a future release. To remove this warning, do the following: 1) Pass option use_label_encoder=False when constructing XGBClassifier object; and 2) Encode your labels (y) as integers starting with 0, i.e. 0, 1, 2, ..., [num_class - 1].\n",
      "  warnings.warn(label_encoder_deprecation_msg, UserWarning)\n"
     ]
    },
    {
     "name": "stdout",
     "output_type": "stream",
     "text": [
      "precision(-1, 0, 1): [0.39655172 0.24731183 0.52911392]\n",
      "recall score(-1, 0, 1): [0.37581699 0.33576642 0.48831776]\n"
     ]
    }
   ],
   "source": [
    "label_ = ['long' , 'short']\n",
    "predict_ = pd.DataFrame()\n",
    "train_predict_ = pd.DataFrame()\n",
    "isFirst = True\n",
    "for label in label_ :\n",
    "    test_ratio = 0.3\n",
    "    trainp = X [math.ceil(len(X)*test_ratio) :].reset_index(drop = True)\n",
    "    testp = X [ : math.ceil(len(X)*test_ratio)]\n",
    "    print(\"label : \", label )\n",
    "    print(\"test date start form \", testp.date[0],\"to\", testp.date[len(testp)-1] )\n",
    "\n",
    "    X_train = trainp.drop(['date'],axis = 1)\n",
    "    y_train = Y[label][math.ceil(len(X)*test_ratio) :]\n",
    "\n",
    "    X_test = testp.drop(['date'],axis = 1)\n",
    "    y_test = Y[label] [ : math.ceil(len(X)*test_ratio)]\n",
    "\n",
    "    #X_train, y_train = SMOTE(random_state=42).fit_resample(X_train, y_train)\n",
    "    #ros = RandomOverSampler(random_state = 40)\n",
    "\n",
    "    #X_train, y_train = ros.fit_resample(X_train, y_train)\n",
    "\n",
    "    xgbc = XGBClassifier(base_score=0.5, booster='gbtree', colsample_bylevel=0.8,\n",
    "                  colsample_bynode=1, colsample_bytree=0.6, gamma=0.01, gpu_id=-1,\n",
    "                  importance_type='gain',learning_rate=0.1, max_delta_step=0, max_depth=3,\n",
    "                  min_child_weight=1, monotone_constraints='()',\n",
    "                  n_estimators=200, n_jobs=4, nthread=-1, eval_metric='mlogloss',\n",
    "                  random_state=27, reg_alpha=0, reg_lambda=1,\n",
    "                  seed=27, subsample=1, tree_method='exact',\n",
    "                  validate_parameters=1, verbosity=None)\n",
    "    \n",
    "    xgbc.fit(X_train,y_train)\n",
    "    y_test_predp = xgbc.predict(X_test)\n",
    "    y_train_predp = xgbc.predict(X_train)\n",
    "    precision, recall, f1, _ = score(y_test, y_test_predp)\n",
    "    print ( \"precision(-1, 0, 1):\" ,precision )    \n",
    "    print ( \"recall score(-1, 0, 1):\" ,recall )\n",
    "    \n",
    "    if isFirst :\n",
    "        predict_['date'] = testp.date\n",
    "        train_predict_['date'] = trainp.date\n",
    "        isFirst = False\n",
    "    train_predict_[label] = y_train_predp\n",
    "    predict_[label] = y_test_predp"
   ]
  },
  {
   "cell_type": "code",
   "execution_count": 57,
   "id": "7733050a",
   "metadata": {
    "id": "7733050a",
    "outputId": "58de68cb-95e5-43db-97c6-2571513c8f47"
   },
   "outputs": [
    {
     "data": {
      "image/png": "[encoded data removed]",
      "text/plain": [
       "<Figure size 432x288 with 1 Axes>"
      ]
     },
     "metadata": {
      "needs_background": "light"
     },
     "output_type": "display_data"
    }
   ],
   "source": [
    "# feature important plot\n",
    "from matplotlib import pyplot as plt\n",
    "def f_importances(coef, names):\n",
    "    imp = coef\n",
    "    imp,names = zip(*sorted(zip(imp,names)))\n",
    "    plt.barh(range(len(names)), imp, align='center')\n",
    "    plt.yticks(range(len(names)), names)\n",
    "    plt.show()\n",
    "    \n",
    "f_importances(xgbc.feature_importances_, X_train.columns)"
   ]
  },
  {
   "cell_type": "code",
   "execution_count": 58,
   "id": "1271c343",
   "metadata": {
    "id": "1271c343"
   },
   "outputs": [],
   "source": [
    "train_predict_.to_csv('./result/XGBoost_train.csv',index=False, encoding='utf-8')\n",
    "predict_.to_csv('./result/XGBoost.csv',index=False, encoding='utf-8')"
   ]
  },
  {
   "cell_type": "markdown",
   "id": "456c34fe",
   "metadata": {
    "id": "456c34fe"
   },
   "source": [
    "---\n",
    "## SVM"
   ]
  },
  {
   "cell_type": "code",
   "execution_count": 59,
   "id": "48b32bf0",
   "metadata": {
    "id": "48b32bf0",
    "outputId": "c025538e-7c14-46b7-d2d8-250748e77f67",
    "scrolled": true
   },
   "outputs": [
    {
     "name": "stdout",
     "output_type": "stream",
     "text": [
      "label :  long\n",
      "test date start form  2021/11/30 to 2018/5/15\n",
      "precision(-1, 0, 1): [0.27586207 0.3164557  0.51960784]\n",
      "recall score(-1, 0, 1): [0.05460751 0.86206897 0.16719243]\n",
      "label :  short\n",
      "test date start form  2021/11/30 to 2018/5/15\n",
      "precision(-1, 0, 1): [0.34355828 0.23668639 0.54521277]\n",
      "recall score(-1, 0, 1): [0.36601307 0.2919708  0.47897196]\n"
     ]
    }
   ],
   "source": [
    "label_ = ['long' , 'short']\n",
    "cluster = [0,1,2]\n",
    "predict_ = pd.DataFrame()\n",
    "train_predict_ = pd.DataFrame()\n",
    "isFirst = True\n",
    "for label in label_ :\n",
    "    test_ratio = 0.3\n",
    "    trainp = X [math.ceil(len(X)*test_ratio) :].reset_index(drop = True)\n",
    "    testp = X [ : math.ceil(len(X)*test_ratio)]\n",
    "    print(\"label : \", label )\n",
    "    print(\"test date start form \", testp.date[0],\"to\", testp.date[len(testp)-1] )\n",
    "\n",
    "    X_train = trainp.drop(['date'],axis = 1)\n",
    "    y_train = Y[label][math.ceil(len(X)*test_ratio) :]\n",
    "\n",
    "    X_test = testp.drop(['date'],axis = 1)\n",
    "    y_test = Y[label] [ : math.ceil(len(X)*test_ratio)]\n",
    "\n",
    "    #X_train, y_train = SMOTE(random_state=42).fit_resample(X_train, y_train)\n",
    "    #ros = RandomOverSampler(random_state = 40)\n",
    "\n",
    "    #X_train, y_train = ros.fit_resample(X_train, y_train)\n",
    "\n",
    "    clf=svm.SVC(kernel='linear',C=1,gamma='auto',degree=3)\n",
    "    \n",
    "    clf.fit(X_train,y_train)\n",
    "    y_test_predp = clf.predict(X_test)\n",
    "    y_train_predp = clf.predict(X_train)\n",
    "    precision, recall, f1, _ = score(y_test, y_test_predp)\n",
    "    print ( \"precision(-1, 0, 1):\" ,precision )\n",
    "    print ( \"recall score(-1, 0, 1):\" ,recall )\n",
    "    \n",
    "    if isFirst :\n",
    "        predict_['date'] = testp.date\n",
    "        train_predict_['date'] = trainp.date\n",
    "        isFirst = False\n",
    "    train_predict_[label] = y_train_predp\n",
    "    predict_[label] = y_test_predp"
   ]
  },
  {
   "cell_type": "code",
   "execution_count": 60,
   "id": "3df008b4",
   "metadata": {
    "id": "3df008b4"
   },
   "outputs": [],
   "source": [
    "train_predict_.to_csv('./result/Svm_train.csv',index=False, encoding='utf-8')\n",
    "predict_.to_csv('./result/Svm.csv',index=False, encoding='utf-8')"
   ]
  },
  {
   "cell_type": "code",
   "execution_count": 61,
   "id": "e3831639",
   "metadata": {
    "id": "e3831639",
    "outputId": "5a309c50-1efb-4149-a90a-3e8c28172bca"
   },
   "outputs": [
    {
     "data": {
      "image/png": "[encoded data removed]",
      "text/plain": [
       "<Figure size 432x288 with 1 Axes>"
      ]
     },
     "metadata": {
      "needs_background": "light"
     },
     "output_type": "display_data"
    }
   ],
   "source": [
    "# feature important plot\n",
    "from matplotlib import pyplot as plt\n",
    "def f_importances(coef, names):\n",
    "    imp = coef\n",
    "    imp,names = zip(*sorted(zip(imp,names)))\n",
    "    plt.barh(range(len(names)), imp, align='center')\n",
    "    plt.yticks(range(len(names)), names)\n",
    "    plt.show()\n",
    "    \n",
    "f_importances(clf.coef_[1], X_train.columns)"
   ]
  },
  {
   "cell_type": "markdown",
   "id": "13a99d40",
   "metadata": {
    "id": "13a99d40"
   },
   "source": [
    "## training feature : by each cluster\n",
    "- several index and time serises price data\n",
    "---\n",
    "## XGBoost"
   ]
  },
  {
   "cell_type": "code",
   "execution_count": 62,
   "id": "3b356d98",
   "metadata": {
    "id": "3b356d98",
    "outputId": "ea9a5d43-2a55-4973-dfb9-29b971b3672c"
   },
   "outputs": [
    {
     "name": "stdout",
     "output_type": "stream",
     "text": [
      "cluster :  0\n",
      "label :  long\n",
      "test date start form  2021/11/30 to 2017/3/9\n"
     ]
    },
    {
     "name": "stderr",
     "output_type": "stream",
     "text": [
      "C:\\Users\\kevin\\anaconda3\\lib\\site-packages\\xgboost\\sklearn.py:1224: UserWarning: The use of label encoder in XGBClassifier is deprecated and will be removed in a future release. To remove this warning, do the following: 1) Pass option use_label_encoder=False when constructing XGBClassifier object; and 2) Encode your labels (y) as integers starting with 0, i.e. 0, 1, 2, ..., [num_class - 1].\n",
      "  warnings.warn(label_encoder_deprecation_msg, UserWarning)\n"
     ]
    },
    {
     "name": "stdout",
     "output_type": "stream",
     "text": [
      "precision(-1, 0, 1): [0.32822086 0.42276423 0.32      ]\n",
      "recall score(-1, 0, 1): [0.35785953 0.65491184 0.02962963]\n",
      "label :  short\n",
      "test date start form  2021/11/30 to 2017/3/9\n"
     ]
    },
    {
     "name": "stderr",
     "output_type": "stream",
     "text": [
      "C:\\Users\\kevin\\anaconda3\\lib\\site-packages\\xgboost\\sklearn.py:1224: UserWarning: The use of label encoder in XGBClassifier is deprecated and will be removed in a future release. To remove this warning, do the following: 1) Pass option use_label_encoder=False when constructing XGBClassifier object; and 2) Encode your labels (y) as integers starting with 0, i.e. 0, 1, 2, ..., [num_class - 1].\n",
      "  warnings.warn(label_encoder_deprecation_msg, UserWarning)\n"
     ]
    },
    {
     "name": "stdout",
     "output_type": "stream",
     "text": [
      "precision(-1, 0, 1): [0.38461538 0.35714286 0.48096192]\n",
      "recall score(-1, 0, 1): [0.34954407 0.27777778 0.57007126]\n",
      "cluster :  1\n",
      "label :  long\n",
      "test date start form  2021/11/30 to 2017/3/9\n",
      "precision(-1, 0, 1): [0.25       0.         0.83333333]\n",
      "recall score(-1, 0, 1): [0.71428571 0.         0.43478261]\n",
      "label :  short\n",
      "test date start form  2021/11/30 to 2017/3/9\n",
      "precision(-1, 0, 1): [0.28571429 0.         0.72      ]\n",
      "recall score(-1, 0, 1): [0.25      0.        0.7826087]\n",
      "cluster :  2\n",
      "label :  long\n",
      "test date start form  2021/11/30 to 2017/3/9\n"
     ]
    },
    {
     "name": "stderr",
     "output_type": "stream",
     "text": [
      "C:\\Users\\kevin\\anaconda3\\lib\\site-packages\\xgboost\\sklearn.py:1224: UserWarning: The use of label encoder in XGBClassifier is deprecated and will be removed in a future release. To remove this warning, do the following: 1) Pass option use_label_encoder=False when constructing XGBClassifier object; and 2) Encode your labels (y) as integers starting with 0, i.e. 0, 1, 2, ..., [num_class - 1].\n",
      "  warnings.warn(label_encoder_deprecation_msg, UserWarning)\n",
      "C:\\Users\\kevin\\anaconda3\\lib\\site-packages\\sklearn\\metrics\\_classification.py:1248: UndefinedMetricWarning: Precision and F-score are ill-defined and being set to 0.0 in labels with no predicted samples. Use `zero_division` parameter to control this behavior.\n",
      "  _warn_prf(average, modifier, msg_start, len(result))\n",
      "C:\\Users\\kevin\\anaconda3\\lib\\site-packages\\xgboost\\sklearn.py:1224: UserWarning: The use of label encoder in XGBClassifier is deprecated and will be removed in a future release. To remove this warning, do the following: 1) Pass option use_label_encoder=False when constructing XGBClassifier object; and 2) Encode your labels (y) as integers starting with 0, i.e. 0, 1, 2, ..., [num_class - 1].\n",
      "  warnings.warn(label_encoder_deprecation_msg, UserWarning)\n",
      "C:\\Users\\kevin\\anaconda3\\lib\\site-packages\\sklearn\\metrics\\_classification.py:1248: UndefinedMetricWarning: Precision and F-score are ill-defined and being set to 0.0 in labels with no predicted samples. Use `zero_division` parameter to control this behavior.\n",
      "  _warn_prf(average, modifier, msg_start, len(result))\n",
      "C:\\Users\\kevin\\anaconda3\\lib\\site-packages\\xgboost\\sklearn.py:1224: UserWarning: The use of label encoder in XGBClassifier is deprecated and will be removed in a future release. To remove this warning, do the following: 1) Pass option use_label_encoder=False when constructing XGBClassifier object; and 2) Encode your labels (y) as integers starting with 0, i.e. 0, 1, 2, ..., [num_class - 1].\n",
      "  warnings.warn(label_encoder_deprecation_msg, UserWarning)\n"
     ]
    },
    {
     "name": "stdout",
     "output_type": "stream",
     "text": [
      "precision(-1, 0, 1): [0.31958763 0.125      0.45762712]\n",
      "recall score(-1, 0, 1): [0.75609756 0.01694915 0.421875  ]\n",
      "label :  short\n",
      "test date start form  2021/11/30 to 2017/3/9\n",
      "precision(-1, 0, 1): [0.30769231 0.         0.65714286]\n",
      "recall score(-1, 0, 1): [0.62222222 0.         0.49462366]\n"
     ]
    },
    {
     "name": "stderr",
     "output_type": "stream",
     "text": [
      "C:\\Users\\kevin\\anaconda3\\lib\\site-packages\\xgboost\\sklearn.py:1224: UserWarning: The use of label encoder in XGBClassifier is deprecated and will be removed in a future release. To remove this warning, do the following: 1) Pass option use_label_encoder=False when constructing XGBClassifier object; and 2) Encode your labels (y) as integers starting with 0, i.e. 0, 1, 2, ..., [num_class - 1].\n",
      "  warnings.warn(label_encoder_deprecation_msg, UserWarning)\n"
     ]
    }
   ],
   "source": [
    "label_ = ['long' , 'short']\n",
    "cluster_ = [0,1,2]\n",
    "predict_ = pd.DataFrame()\n",
    "isFirst = True\n",
    "for cluster in cluster_ :\n",
    "    print ('cluster : ' , cluster)\n",
    "    for label in label_ :\n",
    "        test_ratio = 0.4\n",
    "        trainp = X [math.ceil(len(X)*test_ratio) :].reset_index(drop = True)\n",
    "        testp = X [ : math.ceil(len(X)*test_ratio)]\n",
    "        print(\"label : \", label )\n",
    "        print(\"test date start form \", testp.date[0],\"to\", testp.date[len(testp)-1] )\n",
    "\n",
    "        X_train = trainp.drop(['date'],axis = 1).reset_index(drop = True)\n",
    "        y_train = Y[label][math.ceil(len(X)*test_ratio) :].reset_index(drop = True)\n",
    "        \n",
    "        \n",
    "        X_test = testp.drop(['date'],axis = 1).reset_index(drop = True)\n",
    "        y_test = Y[label] [ : math.ceil(len(X)*test_ratio)].reset_index(drop = True)\n",
    "        \n",
    "        X_train_cluster = X_train[X_train.long_cluster==cluster]\n",
    "        y_train_cluster = y_train[X_train.long_cluster==cluster]\n",
    "        \n",
    "        \n",
    "        X_test_cluster =  X_test[X_test.long_cluster==cluster]\n",
    "        y_test_cluster = y_test[X_test.long_cluster==cluster]\n",
    "\n",
    "        #X_train, y_train = SMOTE(random_state=42).fit_resample(X_train, y_train)\n",
    "        #ros = RandomOverSampler(random_state = 40)\n",
    "\n",
    "        #X_train, y_train = ros.fit_resample(X_train, y_train)\n",
    "\n",
    "        xgbc = XGBClassifier(base_score=0.5, booster='gbtree', colsample_bylevel=0.8,\n",
    "                      colsample_bynode=1, colsample_bytree=0.6, gamma=0.01, gpu_id=-1,\n",
    "                      importance_type='gain',learning_rate=0.1, max_delta_step=0, max_depth=2,\n",
    "                      min_child_weight=1, monotone_constraints='()',\n",
    "                      n_estimators=200, n_jobs=4, nthread=-1, eval_metric='mlogloss',\n",
    "                      random_state=27, reg_alpha=0, reg_lambda=1,\n",
    "                      seed=27, subsample=1, tree_method='exact',\n",
    "                      validate_parameters=1,  verbosity = 0)\n",
    "\n",
    "        xgbc.fit(X_train_cluster,y_train_cluster)\n",
    "        y_test_predp = xgbc.predict(X_test_cluster)\n",
    "\n",
    "        precision, recall, f1, _ = score(y_test_cluster, y_test_predp)\n",
    "        print ( \"precision(-1, 0, 1):\" ,precision )\n",
    "        print ( \"recall score(-1, 0, 1):\" ,recall )\n",
    "#         if isFirst :\n",
    "#             predict_['date'] = testp.date\n",
    "#             isFirst = False\n",
    "#         predict_[label] = y_test_predp"
   ]
  },
  {
   "cell_type": "code",
   "execution_count": 63,
   "id": "e4918297",
   "metadata": {
    "id": "e4918297",
    "outputId": "a94d3aae-854b-4553-98fd-b8526338f62c"
   },
   "outputs": [
    {
     "name": "stdout",
     "output_type": "stream",
     "text": [
      "cluster :  0\n",
      "label :  long\n",
      "test date start form  2021/11/30 to 2017/3/9\n",
      "precision(-1, 0, 1): [0.33222591 0.4126506  1.        ]\n",
      "recall score(-1, 0, 1): [0.33444816 0.69017632 0.0037037 ]\n",
      "label :  short\n",
      "test date start form  2021/11/30 to 2017/3/9\n",
      "precision(-1, 0, 1): [0.37037037 0.32642487 0.47884187]\n",
      "recall score(-1, 0, 1): [0.36474164 0.29166667 0.51068884]\n",
      "cluster :  1\n",
      "label :  long\n",
      "test date start form  2021/11/30 to 2017/3/9\n",
      "precision(-1, 0, 1): [0.19047619 0.         0.72727273]\n",
      "recall score(-1, 0, 1): [0.57142857 0.         0.34782609]\n",
      "label :  short\n",
      "test date start form  2021/11/30 to 2017/3/9\n",
      "precision(-1, 0, 1): [0.09090909 0.         0.61904762]\n",
      "recall score(-1, 0, 1): [0.125      0.         0.56521739]\n",
      "cluster :  2\n",
      "label :  long\n",
      "test date start form  2021/11/30 to 2017/3/9\n",
      "precision(-1, 0, 1): [0.28571429 0.         0.36585366]\n",
      "recall score(-1, 0, 1): [0.82926829 0.         0.234375  ]\n",
      "label :  short\n",
      "test date start form  2021/11/30 to 2017/3/9\n",
      "precision(-1, 0, 1): [0.26530612 0.         0.609375  ]\n",
      "recall score(-1, 0, 1): [0.57777778 0.         0.41935484]\n"
     ]
    },
    {
     "name": "stderr",
     "output_type": "stream",
     "text": [
      "C:\\Users\\kevin\\anaconda3\\lib\\site-packages\\sklearn\\metrics\\_classification.py:1248: UndefinedMetricWarning: Precision and F-score are ill-defined and being set to 0.0 in labels with no predicted samples. Use `zero_division` parameter to control this behavior.\n",
      "  _warn_prf(average, modifier, msg_start, len(result))\n",
      "C:\\Users\\kevin\\anaconda3\\lib\\site-packages\\sklearn\\metrics\\_classification.py:1248: UndefinedMetricWarning: Precision and F-score are ill-defined and being set to 0.0 in labels with no predicted samples. Use `zero_division` parameter to control this behavior.\n",
      "  _warn_prf(average, modifier, msg_start, len(result))\n"
     ]
    }
   ],
   "source": [
    "label_ = ['long' , 'short']\n",
    "cluster_ = [0,1,2]\n",
    "predict_ = pd.DataFrame()\n",
    "isFirst = True\n",
    "for cluster in cluster_ :\n",
    "    print ('cluster : ' , cluster)\n",
    "    for label in label_ :\n",
    "        test_ratio = 0.4\n",
    "        trainp = X [math.ceil(len(X)*test_ratio) :].reset_index(drop = True)\n",
    "        testp = X [ : math.ceil(len(X)*test_ratio)]\n",
    "        print(\"label : \", label )\n",
    "        print(\"test date start form \", testp.date[0],\"to\", testp.date[len(testp)-1] )\n",
    "\n",
    "        X_train = trainp.drop(['date'],axis = 1).reset_index(drop = True)\n",
    "        y_train = Y[label][math.ceil(len(X)*test_ratio) :].reset_index(drop = True)\n",
    "        \n",
    "        \n",
    "        X_test = testp.drop(['date'],axis = 1).reset_index(drop = True)\n",
    "        y_test = Y[label] [ : math.ceil(len(X)*test_ratio)].reset_index(drop = True)\n",
    "        \n",
    "        X_train_cluster = X_train[X_train.long_cluster==cluster]\n",
    "        y_train_cluster = y_train[X_train.long_cluster==cluster]\n",
    "        \n",
    "        \n",
    "        X_test_cluster =  X_test[X_test.long_cluster==cluster]\n",
    "        y_test_cluster = y_test[X_test.long_cluster==cluster]\n",
    "\n",
    "        #X_train, y_train = SMOTE(random_state=42).fit_resample(X_train, y_train)\n",
    "        #ros = RandomOverSampler(random_state = 40)\n",
    "\n",
    "        #X_train, y_train = ros.fit_resample(X_train, y_train)\n",
    "\n",
    "        clf=svm.SVC(kernel='linear',C=2,gamma='auto')\n",
    "\n",
    "        clf.fit(X_train_cluster,y_train_cluster)\n",
    "        y_test_predp = clf.predict(X_test_cluster)\n",
    "\n",
    "        precision, recall, f1, _ = score(y_test_cluster, y_test_predp)\n",
    "        print ( \"precision(-1, 0, 1):\" ,precision )\n",
    "        print ( \"recall score(-1, 0, 1):\" ,recall )\n",
    "\n",
    "#         if isFirst :\n",
    "#             predict_['date'] = testp.date\n",
    "#             isFirst = False\n",
    "#         predict_[label] = y_test_predp"
   ]
  },
  {
   "cell_type": "code",
   "execution_count": null,
   "id": "ef2a1293",
   "metadata": {
    "id": "ef2a1293"
   },
   "outputs": [],
   "source": []
  },
  {
   "cell_type": "code",
   "execution_count": null,
   "id": "3bf3d0bd",
   "metadata": {
    "id": "3bf3d0bd"
   },
   "outputs": [],
   "source": []
  },
  {
   "cell_type": "markdown",
   "id": "6dcddf40",
   "metadata": {
    "id": "6dcddf40"
   },
   "source": [
    "def get_cnn_series_data( df, period) -> list:\n",
    "    list_ = []\n",
    "    for i in range(len(df)-period+1):\n",
    "        list_.append(df[i:i+period].values)\n",
    "        \n",
    "    return np.array(list_)\n",
    "\n",
    "def cnn_training(allData, allLabel, day , splitsize, epoches = 100) :\n",
    "\n",
    "    week_list = allData\n",
    "    week_label = allLabel\n",
    "    # 定義梯度下降批量\n",
    "    batch_size = 32\n",
    "    # 定義分類數量\n",
    "    num_classes = 3\n",
    "    # 定義訓練週期\n",
    "    epochs = epoches\n",
    "\n",
    "    # 定義圖像寬、高\n",
    "    img_rows, img_cols = day, 17\n",
    "    input_shape = ( img_rows, img_cols)\n",
    "\n",
    "    # 載入 MNIST 訓練資料\n",
    "    split_ratio = splitsize\n",
    "    x_train = week_list[ math.ceil(len(week_list)*split_ratio) :]\n",
    "    x_test = week_list[ : math.ceil(len(week_list)*split_ratio) ]\n",
    "\n",
    "    y_train = week_label[ math.ceil(len(week_label)*split_ratio) :]\n",
    "    y_test = week_label[ : math.ceil(len(week_label)*split_ratio) ]\n",
    "\n",
    "    x_train = x_train.reshape(x_train.shape[0] , img_rows, img_cols,1)\n",
    "    x_test = x_test.reshape(x_test.shape[0], img_rows, img_cols ,1)\n",
    "\n",
    "    # x_train  = torch.from_numpy(x_train)\n",
    "    # x_test  = torch.from_numpy(x_test)\n",
    "\n",
    "    # y_train = torch.from_numpy(y_train)\n",
    "    # y_test = torch.from_numpy(y_test)\n",
    "\n",
    "    input_shape = (img_rows, img_cols,1 )\n",
    "\n",
    "    # 保留原始資料，供 cross tab function 使用\n",
    "    y_test_org = y_test\n",
    "\n",
    "\n",
    "    # y 值轉成 one-hot encoding\n",
    "    y_train = np_utils.to_categorical(y_train, num_classes)\n",
    "    y_test = np_utils.to_categorical(y_test, num_classes)\n",
    "\n",
    "    # 建立簡單的線性執行的模型\n",
    "    model = Sequential()\n",
    "    # 建立卷積層，filter=32,即 output space 的深度, Kernal Size: 3x3, activation function 採用 relu\n",
    "    model.add(Conv2D(16, kernel_size=(3,10),\n",
    "                    activation='relu',\n",
    "                    input_shape=input_shape))\n",
    "    #model.add(BatchNormalization())\n",
    "    model.add(GaussianNoise(0.5))\n",
    "    # 建立卷積層，filter=64,即 output size, Kernal Size: 3x3, activation function 採用 relu\n",
    "    model.add(Conv2D(32, (3,2), activation='relu'))\n",
    "    # 建立池化層，池化大小=2x2，取最大值\n",
    "    model.add(MaxPooling2D(pool_size=(3, 5)))\n",
    "    # Dropout層隨機斷開輸入神經元，用於防止過度擬合，斷開比例:0.25\n",
    "    model.add(Dropout(0.25))\n",
    "    # Flatten層把多維的輸入一維化，常用在從卷積層到全連接層的過渡。\n",
    "    model.add(Flatten( name ='flatten'))\n",
    "    # 全連接層: 128個output\n",
    "    model.add(Dense(batch_size, 'sigmoid', name ='Dense'))\n",
    "    # 使用 softmax activation function，將結果分類\n",
    "    model.add(Dense(num_classes, activation='softmax' ))\n",
    "\n",
    "    # 編譯: 選擇損失函數、優化方法及成效衡量方式\n",
    "    model.compile(loss=keras.losses.categorical_crossentropy,\n",
    "                optimizer='adam',\n",
    "                metrics=['accuracy'])\n",
    "\n",
    "    # 進行訓練, 訓練過程會存在 train_history 變數中\n",
    "    train_history = model.fit(x_train, y_train,\n",
    "            batch_size=batch_size,\n",
    "            epochs=epochs,\n",
    "            verbose=1,\n",
    "            validation_data=(x_test, y_test))\n",
    "\n",
    "    # 顯示損失函數、訓練成果(分數)\n",
    "    score = model.evaluate(x_test, y_test, verbose=0)\n",
    "    print('Test loss:', score)\n",
    "    print('Test accuracy:', score)\n",
    "    return model\n",
    "\n",
    "day = 10\n",
    "X_cnn = get_cnn_series_data(X.drop(['date'],axis=1),day)\n",
    "\n",
    "cnn_training(X_cnn , short_label[:len(X_cnn)], day , 0.3 , 100)\n",
    "\n",
    "\n",
    "X_cnn.shape"
   ]
  },
  {
   "cell_type": "code",
   "execution_count": null,
   "id": "df5cfbfd",
   "metadata": {
    "id": "df5cfbfd"
   },
   "outputs": [],
   "source": []
  }
 ],
 "metadata": {
  "colab": {
   "collapsed_sections": [],
   "name": "model.ipynb",
   "provenance": []
  },
  "kernelspec": {
   "display_name": "Python 3 (ipykernel)",
   "language": "python",
   "name": "python3"
  },
  "language_info": {
   "codemirror_mode": {
    "name": "ipython",
    "version": 3
   },
   "file_extension": ".py",
   "mimetype": "text/x-python",
   "name": "python",
   "nbconvert_exporter": "python",
   "pygments_lexer": "ipython3",
   "version": "3.9.7"
  }
 },
 "nbformat": 4,
 "nbformat_minor": 5
}
