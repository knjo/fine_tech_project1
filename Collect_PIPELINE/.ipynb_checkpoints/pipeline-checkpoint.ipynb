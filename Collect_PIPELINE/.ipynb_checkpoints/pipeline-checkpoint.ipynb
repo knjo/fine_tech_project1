{
 "cells": [
  {
   "cell_type": "code",
   "execution_count": 19,
   "metadata": {},
   "outputs": [],
   "source": [
    "%run C:/Users/User/Stock/函式庫/RUN_IMPORT.ipynb"
   ]
  },
  {
   "cell_type": "code",
   "execution_count": 20,
   "metadata": {},
   "outputs": [
    {
     "name": "stdout",
     "output_type": "stream",
     "text": [
      "- 202112TX.TW: No data found, symbol may be delisted\n"
     ]
    },
    {
     "name": "stderr",
     "output_type": "stream",
     "text": [
      "100%|██████████| 23/23 [00:01<00:00, 21.58it/s]\n",
      "100%|██████████| 23/23 [00:01<00:00, 20.24it/s]\n",
      "100%|██████████| 23/23 [00:01<00:00, 21.28it/s]\n",
      "100%|██████████| 23/23 [00:01<00:00, 20.52it/s]\n"
     ]
    }
   ],
   "source": [
    "location=\"C:/Users/User/Stock/前24檔股票開高收低.csv\"\n",
    "window=5\n",
    "Create_DeTrend_DeSTD_Data(location,window)"
   ]
  },
  {
   "cell_type": "code",
   "execution_count": null,
   "metadata": {},
   "outputs": [],
   "source": []
  }
 ],
 "metadata": {
  "kernelspec": {
   "display_name": "Python 3 (ipykernel)",
   "language": "python",
   "name": "python3"
  },
  "language_info": {
   "codemirror_mode": {
    "name": "ipython",
    "version": 3
   },
   "file_extension": ".py",
   "mimetype": "text/x-python",
   "name": "python",
   "nbconvert_exporter": "python",
   "pygments_lexer": "ipython3",
   "version": "3.9.7"
  }
 },
 "nbformat": 4,
 "nbformat_minor": 2
}
